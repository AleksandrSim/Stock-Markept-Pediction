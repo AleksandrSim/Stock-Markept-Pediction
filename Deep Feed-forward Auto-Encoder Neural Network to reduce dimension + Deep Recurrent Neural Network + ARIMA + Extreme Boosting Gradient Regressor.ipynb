{
 "cells": [
  {
   "cell_type": "code",
   "execution_count": 44,
   "metadata": {},
   "outputs": [],
   "source": [
    "import tensorflow as tf\n",
    "from sklearn.model_selection import KFold, cross_val_score, train_test_split\n",
    "from sklearn.metrics import mean_squared_error\n",
    "import xgboost as xgb\n",
    "import numpy as np\n",
    "import matplotlib.pyplot as plt\n",
    "from sklearn.preprocessing import MinMaxScaler\n",
    "import seaborn as sns\n",
    "import pandas as pd\n",
    "import autoencoder\n",
    "import model\n",
    "from datetime import datetime\n",
    "from datetime import timedelta"
   ]
  },
  {
   "cell_type": "code",
   "execution_count": 45,
   "metadata": {},
   "outputs": [],
   "source": [
    "google = pd.read_csv('GOOG.csv')\n",
    "eur_myr = pd.read_csv('eur-myr.csv')\n",
    "usd_myr = pd.read_csv('usd-myr.csv')\n",
    "oil = pd.read_csv('oil.csv')\n"
   ]
  },
  {
   "cell_type": "code",
   "execution_count": 46,
   "metadata": {},
   "outputs": [],
   "source": [
    "google['oil_price'] = oil['Price']\n",
    "google['oil_open'] = oil['Open']\n",
    "google['oil_high'] = oil['High']\n",
    "google['oil_low'] = oil['Low']\n",
    "google['eur_myr'] = eur_myr['Unnamed: 1']\n",
    "google['usd_myr'] = usd_myr['Unnamed: 1']"
   ]
  },
  {
   "cell_type": "code",
   "execution_count": 47,
   "metadata": {},
   "outputs": [
    {
     "data": {
      "text/html": [
       "<div>\n",
       "<style scoped>\n",
       "    .dataframe tbody tr th:only-of-type {\n",
       "        vertical-align: middle;\n",
       "    }\n",
       "\n",
       "    .dataframe tbody tr th {\n",
       "        vertical-align: top;\n",
       "    }\n",
       "\n",
       "    .dataframe thead th {\n",
       "        text-align: right;\n",
       "    }\n",
       "</style>\n",
       "<table border=\"1\" class=\"dataframe\">\n",
       "  <thead>\n",
       "    <tr style=\"text-align: right;\">\n",
       "      <th></th>\n",
       "      <th>Date</th>\n",
       "      <th>Open</th>\n",
       "      <th>High</th>\n",
       "      <th>Low</th>\n",
       "      <th>Close</th>\n",
       "      <th>Adj Close</th>\n",
       "      <th>Volume</th>\n",
       "      <th>oil_price</th>\n",
       "      <th>oil_open</th>\n",
       "      <th>oil_high</th>\n",
       "      <th>oil_low</th>\n",
       "      <th>eur_myr</th>\n",
       "      <th>usd_myr</th>\n",
       "    </tr>\n",
       "  </thead>\n",
       "  <tbody>\n",
       "    <tr>\n",
       "      <th>0</th>\n",
       "      <td>2017-10-02</td>\n",
       "      <td>959.979980</td>\n",
       "      <td>962.539978</td>\n",
       "      <td>947.840027</td>\n",
       "      <td>953.270020</td>\n",
       "      <td>953.270020</td>\n",
       "      <td>1283400</td>\n",
       "      <td>54.27</td>\n",
       "      <td>54.26</td>\n",
       "      <td>54.39</td>\n",
       "      <td>54.22</td>\n",
       "      <td>4.9260</td>\n",
       "      <td>4.226</td>\n",
       "    </tr>\n",
       "    <tr>\n",
       "      <th>1</th>\n",
       "      <td>2017-10-03</td>\n",
       "      <td>954.000000</td>\n",
       "      <td>958.000000</td>\n",
       "      <td>949.140015</td>\n",
       "      <td>957.789978</td>\n",
       "      <td>957.789978</td>\n",
       "      <td>888300</td>\n",
       "      <td>54.24</td>\n",
       "      <td>54.59</td>\n",
       "      <td>55.22</td>\n",
       "      <td>53.89</td>\n",
       "      <td>4.9232</td>\n",
       "      <td>4.232</td>\n",
       "    </tr>\n",
       "    <tr>\n",
       "      <th>2</th>\n",
       "      <td>2017-10-04</td>\n",
       "      <td>957.000000</td>\n",
       "      <td>960.390015</td>\n",
       "      <td>950.690002</td>\n",
       "      <td>951.679993</td>\n",
       "      <td>951.679993</td>\n",
       "      <td>952400</td>\n",
       "      <td>54.38</td>\n",
       "      <td>54.08</td>\n",
       "      <td>54.85</td>\n",
       "      <td>53.93</td>\n",
       "      <td>4.9255</td>\n",
       "      <td>4.231</td>\n",
       "    </tr>\n",
       "    <tr>\n",
       "      <th>3</th>\n",
       "      <td>2017-10-05</td>\n",
       "      <td>955.489990</td>\n",
       "      <td>970.909973</td>\n",
       "      <td>955.179993</td>\n",
       "      <td>969.960022</td>\n",
       "      <td>969.960022</td>\n",
       "      <td>1213800</td>\n",
       "      <td>54.15</td>\n",
       "      <td>54.16</td>\n",
       "      <td>54.46</td>\n",
       "      <td>53.75</td>\n",
       "      <td>4.9239</td>\n",
       "      <td>4.238</td>\n",
       "    </tr>\n",
       "    <tr>\n",
       "      <th>4</th>\n",
       "      <td>2017-10-06</td>\n",
       "      <td>966.700012</td>\n",
       "      <td>979.460022</td>\n",
       "      <td>963.359985</td>\n",
       "      <td>978.890015</td>\n",
       "      <td>978.890015</td>\n",
       "      <td>1173900</td>\n",
       "      <td>53.90</td>\n",
       "      <td>52.80</td>\n",
       "      <td>54.20</td>\n",
       "      <td>52.25</td>\n",
       "      <td>4.9251</td>\n",
       "      <td>4.241</td>\n",
       "    </tr>\n",
       "  </tbody>\n",
       "</table>\n",
       "</div>"
      ],
      "text/plain": [
       "         Date        Open        High         Low       Close   Adj Close  \\\n",
       "0  2017-10-02  959.979980  962.539978  947.840027  953.270020  953.270020   \n",
       "1  2017-10-03  954.000000  958.000000  949.140015  957.789978  957.789978   \n",
       "2  2017-10-04  957.000000  960.390015  950.690002  951.679993  951.679993   \n",
       "3  2017-10-05  955.489990  970.909973  955.179993  969.960022  969.960022   \n",
       "4  2017-10-06  966.700012  979.460022  963.359985  978.890015  978.890015   \n",
       "\n",
       "    Volume oil_price oil_open oil_high oil_low  eur_myr  usd_myr  \n",
       "0  1283400     54.27    54.26    54.39   54.22   4.9260    4.226  \n",
       "1   888300     54.24    54.59    55.22   53.89   4.9232    4.232  \n",
       "2   952400     54.38    54.08    54.85   53.93   4.9255    4.231  \n",
       "3  1213800     54.15    54.16    54.46   53.75   4.9239    4.238  \n",
       "4  1173900     53.90    52.80    54.20   52.25   4.9251    4.241  "
      ]
     },
     "execution_count": 47,
     "metadata": {},
     "output_type": "execute_result"
    }
   ],
   "source": [
    "date_ori = pd.to_datetime(google.iloc[:, 0]).tolist()\n",
    "google.head()\n"
   ]
  },
  {
   "cell_type": "code",
   "execution_count": 48,
   "metadata": {},
   "outputs": [
    {
     "data": {
      "text/html": [
       "<div>\n",
       "<style scoped>\n",
       "    .dataframe tbody tr th:only-of-type {\n",
       "        vertical-align: middle;\n",
       "    }\n",
       "\n",
       "    .dataframe tbody tr th {\n",
       "        vertical-align: top;\n",
       "    }\n",
       "\n",
       "    .dataframe thead th {\n",
       "        text-align: right;\n",
       "    }\n",
       "</style>\n",
       "<table border=\"1\" class=\"dataframe\">\n",
       "  <thead>\n",
       "    <tr style=\"text-align: right;\">\n",
       "      <th></th>\n",
       "      <th>0</th>\n",
       "      <th>1</th>\n",
       "      <th>2</th>\n",
       "      <th>3</th>\n",
       "      <th>4</th>\n",
       "      <th>5</th>\n",
       "      <th>6</th>\n",
       "      <th>7</th>\n",
       "      <th>8</th>\n",
       "      <th>9</th>\n",
       "      <th>10</th>\n",
       "      <th>11</th>\n",
       "    </tr>\n",
       "  </thead>\n",
       "  <tbody>\n",
       "    <tr>\n",
       "      <th>0</th>\n",
       "      <td>0.094604</td>\n",
       "      <td>0.050227</td>\n",
       "      <td>0.000000</td>\n",
       "      <td>0.021539</td>\n",
       "      <td>0.021539</td>\n",
       "      <td>0.092326</td>\n",
       "      <td>0.978389</td>\n",
       "      <td>0.938202</td>\n",
       "      <td>0.847145</td>\n",
       "      <td>1.000000</td>\n",
       "      <td>0.033371</td>\n",
       "      <td>0.523804</td>\n",
       "    </tr>\n",
       "    <tr>\n",
       "      <th>1</th>\n",
       "      <td>0.000000</td>\n",
       "      <td>0.000000</td>\n",
       "      <td>0.018810</td>\n",
       "      <td>0.082768</td>\n",
       "      <td>0.082768</td>\n",
       "      <td>0.000000</td>\n",
       "      <td>0.972495</td>\n",
       "      <td>1.000000</td>\n",
       "      <td>1.000000</td>\n",
       "      <td>0.935547</td>\n",
       "      <td>0.000000</td>\n",
       "      <td>0.714279</td>\n",
       "    </tr>\n",
       "    <tr>\n",
       "      <th>2</th>\n",
       "      <td>0.047461</td>\n",
       "      <td>0.026442</td>\n",
       "      <td>0.041238</td>\n",
       "      <td>0.000000</td>\n",
       "      <td>0.000000</td>\n",
       "      <td>0.014979</td>\n",
       "      <td>1.000000</td>\n",
       "      <td>0.904495</td>\n",
       "      <td>0.931859</td>\n",
       "      <td>0.943359</td>\n",
       "      <td>0.027409</td>\n",
       "      <td>0.682541</td>\n",
       "    </tr>\n",
       "    <tr>\n",
       "      <th>3</th>\n",
       "      <td>0.023572</td>\n",
       "      <td>0.142825</td>\n",
       "      <td>0.106207</td>\n",
       "      <td>0.247629</td>\n",
       "      <td>0.247629</td>\n",
       "      <td>0.076062</td>\n",
       "      <td>0.954814</td>\n",
       "      <td>0.919477</td>\n",
       "      <td>0.860036</td>\n",
       "      <td>0.908203</td>\n",
       "      <td>0.008343</td>\n",
       "      <td>0.904755</td>\n",
       "    </tr>\n",
       "    <tr>\n",
       "      <th>4</th>\n",
       "      <td>0.200917</td>\n",
       "      <td>0.237416</td>\n",
       "      <td>0.224568</td>\n",
       "      <td>0.368599</td>\n",
       "      <td>0.368599</td>\n",
       "      <td>0.066738</td>\n",
       "      <td>0.905698</td>\n",
       "      <td>0.664794</td>\n",
       "      <td>0.812155</td>\n",
       "      <td>0.615234</td>\n",
       "      <td>0.022640</td>\n",
       "      <td>1.000000</td>\n",
       "    </tr>\n",
       "  </tbody>\n",
       "</table>\n",
       "</div>"
      ],
      "text/plain": [
       "          0         1         2         3         4         5         6  \\\n",
       "0  0.094604  0.050227  0.000000  0.021539  0.021539  0.092326  0.978389   \n",
       "1  0.000000  0.000000  0.018810  0.082768  0.082768  0.000000  0.972495   \n",
       "2  0.047461  0.026442  0.041238  0.000000  0.000000  0.014979  1.000000   \n",
       "3  0.023572  0.142825  0.106207  0.247629  0.247629  0.076062  0.954814   \n",
       "4  0.200917  0.237416  0.224568  0.368599  0.368599  0.066738  0.905698   \n",
       "\n",
       "          7         8         9        10        11  \n",
       "0  0.938202  0.847145  1.000000  0.033371  0.523804  \n",
       "1  1.000000  1.000000  0.935547  0.000000  0.714279  \n",
       "2  0.904495  0.931859  0.943359  0.027409  0.682541  \n",
       "3  0.919477  0.860036  0.908203  0.008343  0.904755  \n",
       "4  0.664794  0.812155  0.615234  0.022640  1.000000  "
      ]
     },
     "execution_count": 48,
     "metadata": {},
     "output_type": "execute_result"
    }
   ],
   "source": [
    "minmax = MinMaxScaler().fit(google.iloc[:, 4].values.reshape((-1,1)))\n",
    "df_log = MinMaxScaler().fit_transform(google.iloc[:, 1:].astype('float32'))\n",
    "df_log = pd.DataFrame(df_log)\n",
    "df_log.head()"
   ]
  },
  {
   "cell_type": "code",
   "execution_count": 49,
   "metadata": {},
   "outputs": [
    {
     "name": "stdout",
     "output_type": "stream",
     "text": [
      "epoch: 10 loss: 0.27752203 time: 0.0004329681396484375\n",
      "epoch: 20 loss: 0.2773618 time: 0.00043201446533203125\n",
      "epoch: 30 loss: 0.2770898 time: 0.0004200935363769531\n",
      "epoch: 40 loss: 0.27662754 time: 0.0004100799560546875\n",
      "epoch: 50 loss: 0.27584228 time: 0.00041413307189941406\n",
      "epoch: 60 loss: 0.27451512 time: 0.0004279613494873047\n",
      "epoch: 70 loss: 0.27232823 time: 0.0004169940948486328\n",
      "epoch: 80 loss: 0.26902166 time: 0.00041222572326660156\n",
      "epoch: 90 loss: 0.2649478 time: 0.00041985511779785156\n",
      "epoch: 100 loss: 0.26092687 time: 0.00038313865661621094\n"
     ]
    },
    {
     "name": "stderr",
     "output_type": "stream",
     "text": [
      "/Users/simonyanaleksandr/anaconda3/lib/python3.7/site-packages/tensorflow/python/client/session.py:1735: UserWarning: An interactive session is already active. This can cause out-of-memory errors in some cases. You must explicitly call `InteractiveSession.close()` to release resources held by the other session(s).\n",
      "  warnings.warn('An interactive session is already active. This can '\n"
     ]
    }
   ],
   "source": [
    "thought_vector = autoencoder.reducedimension(df_log.values, 4, 0.001, 128, 100)"
   ]
  },
  {
   "cell_type": "code",
   "execution_count": 50,
   "metadata": {},
   "outputs": [
    {
     "data": {
      "text/plain": [
       "(23, 4)"
      ]
     },
     "execution_count": 50,
     "metadata": {},
     "output_type": "execute_result"
    }
   ],
   "source": [
    "thought_vector.shape"
   ]
  },
  {
   "cell_type": "code",
   "execution_count": 51,
   "metadata": {},
   "outputs": [],
   "source": [
    "num_layers = 1\n",
    "size_layer = 128\n",
    "timestamp = 5\n",
    "epoch = 500\n",
    "dropout_rate = 0.1"
   ]
  },
  {
   "cell_type": "code",
   "execution_count": 52,
   "metadata": {},
   "outputs": [
    {
     "name": "stdout",
     "output_type": "stream",
     "text": [
      "WARNING:tensorflow:<tensorflow.python.ops.rnn_cell_impl.LSTMCell object at 0x148cce550>: Using a concatenated state is slower and will soon be deprecated.  Use state_is_tuple=True.\n",
      "WARNING:tensorflow:Large dropout rate: 0.9 (>0.5). In TensorFlow 2.x, dropout() uses dropout rate instead of keep_prob. Please ensure that this is intended.\n",
      "epoch: 100 avg loss: 0.15192137472331524\n",
      "epoch: 200 avg loss: 0.05321213789284229\n",
      "epoch: 300 avg loss: 0.06834725080989301\n",
      "epoch: 400 avg loss: 0.031801844481378794\n",
      "epoch: 500 avg loss: 0.04915535356849432\n"
     ]
    }
   ],
   "source": [
    "tf.reset_default_graph()\n",
    "modelnn = model.Model(0.01, num_layers, thought_vector.shape[1], size_layer, 1, dropout_rate)\n",
    "sess = tf.InteractiveSession()\n",
    "sess.run(tf.global_variables_initializer())\n",
    "for i in range(epoch):\n",
    "    init_value = np.zeros((1, num_layers * 2 * size_layer))\n",
    "    total_loss = 0\n",
    "    for k in range(0, (thought_vector.shape[0] // timestamp) * timestamp, timestamp):\n",
    "        batch_x = np.expand_dims(thought_vector[k: k + timestamp, :], axis = 0)\n",
    "        batch_y = df_log.values[k + 1: k + timestamp + 1, 3].reshape([-1, 1])\n",
    "        last_state, _, loss = sess.run([modelnn.last_state, \n",
    "                                        modelnn.optimizer, \n",
    "                                        modelnn.cost], feed_dict={modelnn.X: batch_x, \n",
    "                                                                  modelnn.Y: batch_y, \n",
    "                                                                  modelnn.hidden_layer: init_value})\n",
    "        init_value = last_state\n",
    "        total_loss += loss\n",
    "    total_loss /= (thought_vector.shape[0] // timestamp)\n",
    "    if (i + 1) % 100 == 0:\n",
    "        print('epoch:', i + 1, 'avg loss:', total_loss)"
   ]
  },
  {
   "cell_type": "code",
   "execution_count": 53,
   "metadata": {},
   "outputs": [],
   "source": [
    "output_predict = np.zeros(((thought_vector.shape[0] // timestamp) * timestamp, 1))\n",
    "init_value = np.zeros((1, num_layers * 2 * size_layer))\n",
    "for k in range(0, (thought_vector.shape[0] // timestamp) * timestamp, timestamp):\n",
    "    out_logits, last_state = sess.run([modelnn.logits, modelnn.last_state], feed_dict = {modelnn.X:np.expand_dims(thought_vector[k: k + timestamp, :], axis = 0),\n",
    "                                     modelnn.hidden_layer: init_value})\n",
    "    init_value = last_state\n",
    "    output_predict[k: k + timestamp, :] = out_logits"
   ]
  },
  {
   "cell_type": "code",
   "execution_count": 54,
   "metadata": {},
   "outputs": [
    {
     "name": "stdout",
     "output_type": "stream",
     "text": [
      "Mean Square Error: 0.026706518928794075\n"
     ]
    }
   ],
   "source": [
    "print('Mean Square Error:', np.mean(np.square(output_predict[:, 0] - df_log.iloc[1: (thought_vector.shape[0] // timestamp) * timestamp + 1, 0].values)))"
   ]
  },
  {
   "cell_type": "code",
   "execution_count": 74,
   "metadata": {},
   "outputs": [
    {
     "ename": "NameError",
     "evalue": "name 'aic' is not defined",
     "output_type": "error",
     "traceback": [
      "\u001b[0;31m---------------------------------------------------------------------------\u001b[0m",
      "\u001b[0;31mNameError\u001b[0m                                 Traceback (most recent call last)",
      "\u001b[0;32m<ipython-input-74-89a950a1a71e>\u001b[0m in \u001b[0;36m<module>\u001b[0;34m\u001b[0m\n\u001b[1;32m     20\u001b[0m         \u001b[0mbest_aic\u001b[0m \u001b[0;34m=\u001b[0m \u001b[0maic\u001b[0m\u001b[0;34m\u001b[0m\u001b[0;34m\u001b[0m\u001b[0m\n\u001b[1;32m     21\u001b[0m \u001b[0;34m\u001b[0m\u001b[0m\n\u001b[0;32m---> 22\u001b[0;31m \u001b[0maic\u001b[0m\u001b[0;34m\u001b[0m\u001b[0;34m\u001b[0m\u001b[0m\n\u001b[0m",
      "\u001b[0;31mNameError\u001b[0m: name 'aic' is not defined"
     ]
    }
   ],
   "source": [
    "from itertools import product\n",
    "from scipy import stats\n",
    "    \n",
    "Qs = range(0, 1)\n",
    "qs = range(0, 2)\n",
    "Ps = range(0, 2)\n",
    "ps = range(0, 2)\n",
    "D=1\n",
    "parameters = product(ps, qs, Ps, Qs)\n",
    "parameters_list = list(parameters)\n",
    "best_aic = float(\"inf\")\n",
    "for param in parameters_list:\n",
    "    try:\n",
    "        arima=sm.tsa.statespace.SARIMAX(df_log.iloc[:,3].values, order=(param[0], D, param[1]), seasonal_order=(param[2], D, param[3], 1)).fit(disp=-1)\n",
    "    except:\n",
    "        continue\n",
    "    aic = arima.aic\n",
    "    if aic < best_aic and aic:\n",
    "        best_arima = arima\n",
    "        best_aic = aic\n",
    "        \n",
    "aic"
   ]
  },
  {
   "cell_type": "code",
   "execution_count": 69,
   "metadata": {},
   "outputs": [],
   "source": [
    "for param in parameters_list:\n",
    "    try:\n",
    "        arima=sm.tsa.statespace.SARIMAX(df_log.iloc[:,3].values, order=(param[0], D, param[1]), seasonal_order=(param[2], D, param[3], 1)).fit(disp=1)\n",
    "    except:\n",
    "        continue\n",
    "    aic = arima.aic\n",
    "    if aic < best_aic and aic:\n",
    "        best_arima = arima\n",
    "        best_aic = aic"
   ]
  },
  {
   "cell_type": "code",
   "execution_count": 70,
   "metadata": {},
   "outputs": [],
   "source": [
    "def reverse_close(array):\n",
    "    return minmax.inverse_transform(array.reshape((-1,1))).reshape((-1))"
   ]
  },
  {
   "cell_type": "code",
   "execution_count": 71,
   "metadata": {},
   "outputs": [
    {
     "ename": "NameError",
     "evalue": "name 'best_arima' is not defined",
     "output_type": "error",
     "traceback": [
      "\u001b[0;31m---------------------------------------------------------------------------\u001b[0m",
      "\u001b[0;31mNameError\u001b[0m                                 Traceback (most recent call last)",
      "\u001b[0;32m<ipython-input-71-cf3ded7a84ad>\u001b[0m in \u001b[0;36m<module>\u001b[0;34m\u001b[0m\n\u001b[0;32m----> 1\u001b[0;31m \u001b[0mpred_arima\u001b[0m \u001b[0;34m=\u001b[0m \u001b[0mbest_arima\u001b[0m\u001b[0;34m.\u001b[0m\u001b[0mpredict\u001b[0m\u001b[0;34m(\u001b[0m\u001b[0;34m)\u001b[0m\u001b[0;34m\u001b[0m\u001b[0;34m\u001b[0m\u001b[0m\n\u001b[0m\u001b[1;32m      2\u001b[0m \u001b[0mx_range\u001b[0m \u001b[0;34m=\u001b[0m \u001b[0mnp\u001b[0m\u001b[0;34m.\u001b[0m\u001b[0marange\u001b[0m\u001b[0;34m(\u001b[0m\u001b[0mdf_log\u001b[0m\u001b[0;34m.\u001b[0m\u001b[0mshape\u001b[0m\u001b[0;34m[\u001b[0m\u001b[0;36m0\u001b[0m\u001b[0;34m]\u001b[0m\u001b[0;34m)\u001b[0m\u001b[0;34m\u001b[0m\u001b[0;34m\u001b[0m\u001b[0m\n\u001b[1;32m      3\u001b[0m \u001b[0mfig\u001b[0m \u001b[0;34m=\u001b[0m \u001b[0mplt\u001b[0m\u001b[0;34m.\u001b[0m\u001b[0mfigure\u001b[0m\u001b[0;34m(\u001b[0m\u001b[0mfigsize\u001b[0m \u001b[0;34m=\u001b[0m \u001b[0;34m(\u001b[0m\u001b[0;36m15\u001b[0m\u001b[0;34m,\u001b[0m\u001b[0;36m6\u001b[0m\u001b[0;34m)\u001b[0m\u001b[0;34m)\u001b[0m\u001b[0;34m\u001b[0m\u001b[0;34m\u001b[0m\u001b[0m\n\u001b[1;32m      4\u001b[0m \u001b[0max\u001b[0m \u001b[0;34m=\u001b[0m \u001b[0mplt\u001b[0m\u001b[0;34m.\u001b[0m\u001b[0msubplot\u001b[0m\u001b[0;34m(\u001b[0m\u001b[0;36m111\u001b[0m\u001b[0;34m)\u001b[0m\u001b[0;34m\u001b[0m\u001b[0;34m\u001b[0m\u001b[0m\n\u001b[1;32m      5\u001b[0m \u001b[0max\u001b[0m\u001b[0;34m.\u001b[0m\u001b[0mplot\u001b[0m\u001b[0;34m(\u001b[0m\u001b[0mx_range\u001b[0m\u001b[0;34m,\u001b[0m \u001b[0mreverse_close\u001b[0m\u001b[0;34m(\u001b[0m\u001b[0mdf_log\u001b[0m\u001b[0;34m.\u001b[0m\u001b[0miloc\u001b[0m\u001b[0;34m[\u001b[0m\u001b[0;34m:\u001b[0m\u001b[0;34m,\u001b[0m\u001b[0;36m3\u001b[0m\u001b[0;34m]\u001b[0m\u001b[0;34m.\u001b[0m\u001b[0mvalues\u001b[0m\u001b[0;34m)\u001b[0m\u001b[0;34m,\u001b[0m \u001b[0mlabel\u001b[0m \u001b[0;34m=\u001b[0m \u001b[0;34m'true Close'\u001b[0m\u001b[0;34m)\u001b[0m\u001b[0;34m\u001b[0m\u001b[0;34m\u001b[0m\u001b[0m\n",
      "\u001b[0;31mNameError\u001b[0m: name 'best_arima' is not defined"
     ]
    }
   ],
   "source": [
    "pred_arima = best_arima.predict()\n",
    "x_range = np.arange(df_log.shape[0])\n",
    "fig = plt.figure(figsize = (15,6))\n",
    "ax = plt.subplot(111)\n",
    "ax.plot(x_range, reverse_close(df_log.iloc[:,3].values), label = 'true Close')\n",
    "ax.plot(x_range, reverse_close(pred_arima), label = 'predict Close using Arima')\n",
    "box = ax.get_position()\n",
    "ax.set_position([box.x0, box.y0 + box.height * 0.1, box.width, box.height * 0.9])\n",
    "ax.legend(loc = 'upper center', bbox_to_anchor= (0.5, -0.05), fancybox = True, shadow = True, ncol = 5)\n",
    "plt.xticks(x_range[::5], date_ori[::5])\n",
    "plt.title('overlap market Close')\n",
    "plt.show()"
   ]
  },
  {
   "cell_type": "code",
   "execution_count": null,
   "metadata": {},
   "outputs": [],
   "source": []
  }
 ],
 "metadata": {
  "kernelspec": {
   "display_name": "Python 3",
   "language": "python",
   "name": "python3"
  },
  "language_info": {
   "codemirror_mode": {
    "name": "ipython",
    "version": 3
   },
   "file_extension": ".py",
   "mimetype": "text/x-python",
   "name": "python",
   "nbconvert_exporter": "python",
   "pygments_lexer": "ipython3",
   "version": "3.7.3"
  }
 },
 "nbformat": 4,
 "nbformat_minor": 2
}
