{
 "cells": [
  {
   "cell_type": "code",
   "execution_count": 155,
   "metadata": {},
   "outputs": [],
   "source": [
    "import pandas as pd\n",
    "import numpy as np\n",
    "import matplotlib.pyplot as plt"
   ]
  },
  {
   "cell_type": "code",
   "execution_count": 156,
   "metadata": {},
   "outputs": [
    {
     "data": {
      "text/html": [
       "        <script type=\"text/javascript\">\n",
       "        window.PlotlyConfig = {MathJaxConfig: 'local'};\n",
       "        if (window.MathJax) {MathJax.Hub.Config({SVG: {font: \"STIX-Web\"}});}\n",
       "        if (typeof require !== 'undefined') {\n",
       "        require.undef(\"plotly\");\n",
       "        requirejs.config({\n",
       "            paths: {\n",
       "                'plotly': ['https://cdn.plot.ly/plotly-latest.min']\n",
       "            }\n",
       "        });\n",
       "        require(['plotly'], function(Plotly) {\n",
       "            window._Plotly = Plotly;\n",
       "        });\n",
       "        }\n",
       "        </script>\n",
       "        "
      ]
     },
     "metadata": {},
     "output_type": "display_data"
    }
   ],
   "source": [
    "\n",
    "# plotly is an advanced visualization tool\n",
    "import chart_studio.plotly as py\n",
    "from plotly.offline import init_notebook_mode, iplot\n",
    "init_notebook_mode(connected=True)\n",
    "import plotly.graph_objs as go"
   ]
  },
  {
   "cell_type": "code",
   "execution_count": 157,
   "metadata": {},
   "outputs": [],
   "source": [
    "import warnings\n",
    "warnings.filterwarnings(\"ignore\")"
   ]
  },
  {
   "cell_type": "code",
   "execution_count": 158,
   "metadata": {},
   "outputs": [],
   "source": [
    "from STOCKERQ import Stocker"
   ]
  },
  {
   "cell_type": "code",
   "execution_count": 159,
   "metadata": {},
   "outputs": [],
   "source": [
    "pd.set_option('display.max_rows', 10)"
   ]
  },
  {
   "cell_type": "code",
   "execution_count": 160,
   "metadata": {},
   "outputs": [
    {
     "name": "stdout",
     "output_type": "stream",
     "text": [
      "[*********************100%***********************]  1 of 1 completed\n",
      "AAPL Stocker Initialized. Data covers 1980-12-12 00:00:00 to 2020-04-07 00:00:00.\n"
     ]
    }
   ],
   "source": [
    "apple = Stocker(\"AAPL\")"
   ]
  },
  {
   "cell_type": "code",
   "execution_count": 161,
   "metadata": {},
   "outputs": [],
   "source": [
    "df = apple.stock"
   ]
  },
  {
   "cell_type": "code",
   "execution_count": null,
   "metadata": {},
   "outputs": [],
   "source": []
  },
  {
   "cell_type": "code",
   "execution_count": 162,
   "metadata": {},
   "outputs": [],
   "source": [
    "df = df.reset_index()"
   ]
  },
  {
   "cell_type": "code",
   "execution_count": 227,
   "metadata": {},
   "outputs": [],
   "source": [
    "df = df[['index','Date', 'Open', 'High', 'Low', 'Close','Volume']]"
   ]
  },
  {
   "cell_type": "code",
   "execution_count": 228,
   "metadata": {},
   "outputs": [],
   "source": [
    "df['change%'] = (df['Open']/ df['Open'].shift(1)-1)*100"
   ]
  },
  {
   "cell_type": "code",
   "execution_count": 229,
   "metadata": {},
   "outputs": [],
   "source": [
    "df = df[df['Date'] >= '2010-01-01']"
   ]
  },
  {
   "cell_type": "code",
   "execution_count": 230,
   "metadata": {},
   "outputs": [
    {
     "data": {
      "text/html": [
       "<div>\n",
       "<style scoped>\n",
       "    .dataframe tbody tr th:only-of-type {\n",
       "        vertical-align: middle;\n",
       "    }\n",
       "\n",
       "    .dataframe tbody tr th {\n",
       "        vertical-align: top;\n",
       "    }\n",
       "\n",
       "    .dataframe thead th {\n",
       "        text-align: right;\n",
       "    }\n",
       "</style>\n",
       "<table border=\"1\" class=\"dataframe\">\n",
       "  <thead>\n",
       "    <tr style=\"text-align: right;\">\n",
       "      <th></th>\n",
       "      <th>index</th>\n",
       "      <th>Date</th>\n",
       "      <th>Open</th>\n",
       "      <th>High</th>\n",
       "      <th>Low</th>\n",
       "      <th>Close</th>\n",
       "      <th>Volume</th>\n",
       "      <th>change%</th>\n",
       "    </tr>\n",
       "  </thead>\n",
       "  <tbody>\n",
       "    <tr>\n",
       "      <th>7330</th>\n",
       "      <td>7330</td>\n",
       "      <td>2010-01-04</td>\n",
       "      <td>30.490000</td>\n",
       "      <td>30.642857</td>\n",
       "      <td>30.340000</td>\n",
       "      <td>30.572857</td>\n",
       "      <td>123432400</td>\n",
       "      <td>NaN</td>\n",
       "    </tr>\n",
       "    <tr>\n",
       "      <th>7331</th>\n",
       "      <td>7331</td>\n",
       "      <td>2010-01-05</td>\n",
       "      <td>30.657143</td>\n",
       "      <td>30.798571</td>\n",
       "      <td>30.464285</td>\n",
       "      <td>30.625713</td>\n",
       "      <td>150476200</td>\n",
       "      <td>0.548189</td>\n",
       "    </tr>\n",
       "    <tr>\n",
       "      <th>7332</th>\n",
       "      <td>7332</td>\n",
       "      <td>2010-01-06</td>\n",
       "      <td>30.625713</td>\n",
       "      <td>30.747143</td>\n",
       "      <td>30.107143</td>\n",
       "      <td>30.138571</td>\n",
       "      <td>138040000</td>\n",
       "      <td>-0.102519</td>\n",
       "    </tr>\n",
       "    <tr>\n",
       "      <th>7333</th>\n",
       "      <td>7333</td>\n",
       "      <td>2010-01-07</td>\n",
       "      <td>30.250000</td>\n",
       "      <td>30.285715</td>\n",
       "      <td>29.864286</td>\n",
       "      <td>30.082857</td>\n",
       "      <td>119282800</td>\n",
       "      <td>-1.226791</td>\n",
       "    </tr>\n",
       "    <tr>\n",
       "      <th>7334</th>\n",
       "      <td>7334</td>\n",
       "      <td>2010-01-08</td>\n",
       "      <td>30.042856</td>\n",
       "      <td>30.285715</td>\n",
       "      <td>29.865715</td>\n",
       "      <td>30.282858</td>\n",
       "      <td>111902700</td>\n",
       "      <td>-0.684773</td>\n",
       "    </tr>\n",
       "    <tr>\n",
       "      <th>...</th>\n",
       "      <td>...</td>\n",
       "      <td>...</td>\n",
       "      <td>...</td>\n",
       "      <td>...</td>\n",
       "      <td>...</td>\n",
       "      <td>...</td>\n",
       "      <td>...</td>\n",
       "      <td>...</td>\n",
       "    </tr>\n",
       "    <tr>\n",
       "      <th>9908</th>\n",
       "      <td>9908</td>\n",
       "      <td>2020-04-01</td>\n",
       "      <td>246.500000</td>\n",
       "      <td>248.720001</td>\n",
       "      <td>239.130005</td>\n",
       "      <td>240.910004</td>\n",
       "      <td>44054600</td>\n",
       "      <td>-3.560253</td>\n",
       "    </tr>\n",
       "    <tr>\n",
       "      <th>9909</th>\n",
       "      <td>9909</td>\n",
       "      <td>2020-04-02</td>\n",
       "      <td>240.339996</td>\n",
       "      <td>245.149994</td>\n",
       "      <td>236.899994</td>\n",
       "      <td>244.929993</td>\n",
       "      <td>41483500</td>\n",
       "      <td>-2.498987</td>\n",
       "    </tr>\n",
       "    <tr>\n",
       "      <th>9910</th>\n",
       "      <td>9910</td>\n",
       "      <td>2020-04-03</td>\n",
       "      <td>242.800003</td>\n",
       "      <td>245.699997</td>\n",
       "      <td>238.970001</td>\n",
       "      <td>241.410004</td>\n",
       "      <td>32470000</td>\n",
       "      <td>1.023553</td>\n",
       "    </tr>\n",
       "    <tr>\n",
       "      <th>9911</th>\n",
       "      <td>9911</td>\n",
       "      <td>2020-04-06</td>\n",
       "      <td>250.899994</td>\n",
       "      <td>263.109985</td>\n",
       "      <td>249.380005</td>\n",
       "      <td>262.470001</td>\n",
       "      <td>50289700</td>\n",
       "      <td>3.336075</td>\n",
       "    </tr>\n",
       "    <tr>\n",
       "      <th>9912</th>\n",
       "      <td>9912</td>\n",
       "      <td>2020-04-07</td>\n",
       "      <td>270.799988</td>\n",
       "      <td>271.700012</td>\n",
       "      <td>259.000000</td>\n",
       "      <td>259.429993</td>\n",
       "      <td>50721831</td>\n",
       "      <td>7.931445</td>\n",
       "    </tr>\n",
       "  </tbody>\n",
       "</table>\n",
       "<p>2583 rows × 8 columns</p>\n",
       "</div>"
      ],
      "text/plain": [
       "      index       Date        Open        High         Low       Close  \\\n",
       "7330   7330 2010-01-04   30.490000   30.642857   30.340000   30.572857   \n",
       "7331   7331 2010-01-05   30.657143   30.798571   30.464285   30.625713   \n",
       "7332   7332 2010-01-06   30.625713   30.747143   30.107143   30.138571   \n",
       "7333   7333 2010-01-07   30.250000   30.285715   29.864286   30.082857   \n",
       "7334   7334 2010-01-08   30.042856   30.285715   29.865715   30.282858   \n",
       "...     ...        ...         ...         ...         ...         ...   \n",
       "9908   9908 2020-04-01  246.500000  248.720001  239.130005  240.910004   \n",
       "9909   9909 2020-04-02  240.339996  245.149994  236.899994  244.929993   \n",
       "9910   9910 2020-04-03  242.800003  245.699997  238.970001  241.410004   \n",
       "9911   9911 2020-04-06  250.899994  263.109985  249.380005  262.470001   \n",
       "9912   9912 2020-04-07  270.799988  271.700012  259.000000  259.429993   \n",
       "\n",
       "         Volume   change%  \n",
       "7330  123432400       NaN  \n",
       "7331  150476200  0.548189  \n",
       "7332  138040000 -0.102519  \n",
       "7333  119282800 -1.226791  \n",
       "7334  111902700 -0.684773  \n",
       "...         ...       ...  \n",
       "9908   44054600 -3.560253  \n",
       "9909   41483500 -2.498987  \n",
       "9910   32470000  1.023553  \n",
       "9911   50289700  3.336075  \n",
       "9912   50721831  7.931445  \n",
       "\n",
       "[2583 rows x 8 columns]"
      ]
     },
     "execution_count": 230,
     "metadata": {},
     "output_type": "execute_result"
    }
   ],
   "source": [
    "df"
   ]
  },
  {
   "cell_type": "code",
   "execution_count": 231,
   "metadata": {},
   "outputs": [],
   "source": [
    "df['log_price'] = np.log(df['Open'])"
   ]
  },
  {
   "cell_type": "code",
   "execution_count": 232,
   "metadata": {},
   "outputs": [],
   "source": [
    "df['change%'] = (df['Open']/ df['Open'].shift(1)-1)*100"
   ]
  },
  {
   "cell_type": "code",
   "execution_count": 233,
   "metadata": {},
   "outputs": [],
   "source": [
    "df['pct_change'] = df['log_price'].diff()"
   ]
  },
  {
   "cell_type": "code",
   "execution_count": 234,
   "metadata": {},
   "outputs": [],
   "source": [
    "df['stdev'] = df['pct_change'].rolling(window=30, center=False).std()\n",
    "df['Volatility'] = df['stdev'] * (252**0.5) # Annualize."
   ]
  },
  {
   "cell_type": "code",
   "execution_count": null,
   "metadata": {},
   "outputs": [],
   "source": []
  },
  {
   "cell_type": "code",
   "execution_count": 235,
   "metadata": {},
   "outputs": [
    {
     "data": {
      "text/plain": [
       "[<matplotlib.lines.Line2D at 0x1653f59b0>]"
      ]
     },
     "execution_count": 235,
     "metadata": {},
     "output_type": "execute_result"
    },
    {
     "data": {
      "image/png": "[encoded data removed]",
      "text/plain": [
       "<Figure size 1152x432 with 1 Axes>"
      ]
     },
     "metadata": {
      "needs_background": "light"
     },
     "output_type": "display_data"
    }
   ],
   "source": [
    "plt.figure(figsize=(16,6))\n",
    "plt.title(\"Rolling Volatility With 30 Time Periods By Annualized Standard Deviation\")\n",
    "plt.plot(df['Date'], df['Volatility'], linestyle='solid')"
   ]
  },
  {
   "cell_type": "code",
   "execution_count": 236,
   "metadata": {},
   "outputs": [],
   "source": [
    "df = df.dropna()"
   ]
  },
  {
   "cell_type": "code",
   "execution_count": 237,
   "metadata": {},
   "outputs": [],
   "source": [
    "vol = df[\"Volatility\"] * 100"
   ]
  },
  {
   "cell_type": "code",
   "execution_count": 238,
   "metadata": {},
   "outputs": [],
   "source": [
    "from arch import arch_model\n",
    "am = arch_model(vol, vol='Garch', p=1, o=0, q=1, dist='Normal')"
   ]
  },
  {
   "cell_type": "code",
   "execution_count": 239,
   "metadata": {
    "scrolled": true
   },
   "outputs": [
    {
     "data": {
      "text/html": [
       "<table class=\"simpletable\">\n",
       "<caption>Constant Mean - GARCH Model Results</caption>\n",
       "<tr>\n",
       "  <th>Dep. Variable:</th>     <td>Volatility</td>     <th>  R-squared:         </th>  <td>  -0.055</td> \n",
       "</tr>\n",
       "<tr>\n",
       "  <th>Mean Model:</th>       <td>Constant Mean</td>   <th>  Adj. R-squared:    </th>  <td>  -0.055</td> \n",
       "</tr>\n",
       "<tr>\n",
       "  <th>Vol Model:</th>            <td>GARCH</td>       <th>  Log-Likelihood:    </th> <td>  -7738.14</td>\n",
       "</tr>\n",
       "<tr>\n",
       "  <th>Distribution:</th>        <td>Normal</td>       <th>  AIC:               </th> <td>   15484.3</td>\n",
       "</tr>\n",
       "<tr>\n",
       "  <th>Method:</th>        <td>Maximum Likelihood</td> <th>  BIC:               </th> <td>   15507.7</td>\n",
       "</tr>\n",
       "<tr>\n",
       "  <th></th>                        <td></td>          <th>  No. Observations:  </th>    <td>2553</td>   \n",
       "</tr>\n",
       "<tr>\n",
       "  <th>Date:</th>           <td>Wed, Apr 08 2020</td>  <th>  Df Residuals:      </th>    <td>2549</td>   \n",
       "</tr>\n",
       "<tr>\n",
       "  <th>Time:</th>               <td>19:30:32</td>      <th>  Df Model:          </th>      <td>4</td>    \n",
       "</tr>\n",
       "</table>\n",
       "<table class=\"simpletable\">\n",
       "<caption>Mean Model</caption>\n",
       "<tr>\n",
       "   <td></td>     <th>coef</th>     <th>std err</th>      <th>t</th>        <th>P>|t|</th>   <th>95.0% Conf. Int.</th> \n",
       "</tr>\n",
       "<tr>\n",
       "  <th>mu</th> <td>   23.8920</td> <td>    0.801</td> <td>   29.818</td> <td>2.291e-195</td> <td>[ 22.322, 25.462]</td>\n",
       "</tr>\n",
       "</table>\n",
       "<table class=\"simpletable\">\n",
       "<caption>Volatility Model</caption>\n",
       "<tr>\n",
       "      <td></td>        <th>coef</th>     <th>std err</th>      <th>t</th>       <th>P>|t|</th>   <th>95.0% Conf. Int.</th> \n",
       "</tr>\n",
       "<tr>\n",
       "  <th>omega</th>    <td>    1.7100</td> <td>    0.478</td> <td>    3.575</td> <td>3.509e-04</td> <td>[  0.772,  2.648]</td>\n",
       "</tr>\n",
       "<tr>\n",
       "  <th>alpha[1]</th> <td>    0.9626</td> <td>9.664e-02</td> <td>    9.961</td> <td>2.259e-23</td> <td>[  0.773,  1.152]</td>\n",
       "</tr>\n",
       "<tr>\n",
       "  <th>beta[1]</th>  <td>3.7804e-15</td> <td>9.495e-02</td> <td>3.981e-14</td> <td>    1.000</td> <td>[ -0.186,  0.186]</td>\n",
       "</tr>\n",
       "</table><br/><br/>Covariance estimator: robust"
      ],
      "text/plain": [
       "<class 'statsmodels.iolib.summary.Summary'>\n",
       "\"\"\"\n",
       "                     Constant Mean - GARCH Model Results                      \n",
       "==============================================================================\n",
       "Dep. Variable:             Volatility   R-squared:                      -0.055\n",
       "Mean Model:             Constant Mean   Adj. R-squared:                 -0.055\n",
       "Vol Model:                      GARCH   Log-Likelihood:               -7738.14\n",
       "Distribution:                  Normal   AIC:                           15484.3\n",
       "Method:            Maximum Likelihood   BIC:                           15507.7\n",
       "                                        No. Observations:                 2553\n",
       "Date:                Wed, Apr 08 2020   Df Residuals:                     2549\n",
       "Time:                        19:30:32   Df Model:                            4\n",
       "                               Mean Model                               \n",
       "========================================================================\n",
       "                 coef    std err          t      P>|t|  95.0% Conf. Int.\n",
       "------------------------------------------------------------------------\n",
       "mu            23.8920      0.801     29.818 2.291e-195 [ 22.322, 25.462]\n",
       "                            Volatility Model                            \n",
       "========================================================================\n",
       "                 coef    std err          t      P>|t|  95.0% Conf. Int.\n",
       "------------------------------------------------------------------------\n",
       "omega          1.7100      0.478      3.575  3.509e-04 [  0.772,  2.648]\n",
       "alpha[1]       0.9626  9.664e-02      9.961  2.259e-23 [  0.773,  1.152]\n",
       "beta[1]    3.7804e-15  9.495e-02  3.981e-14      1.000 [ -0.186,  0.186]\n",
       "========================================================================\n",
       "\n",
       "Covariance estimator: robust\n",
       "\"\"\""
      ]
     },
     "execution_count": 239,
     "metadata": {},
     "output_type": "execute_result"
    }
   ],
   "source": [
    "res = am.fit(disp='off')\n",
    "res.summary()"
   ]
  },
  {
   "cell_type": "code",
   "execution_count": 240,
   "metadata": {},
   "outputs": [],
   "source": [
    "df['forecast_vol'] = 0.1 * np.sqrt(res.params['omega'] + res.params['alpha[1]'] * res.resid**2 + \n",
    "                                   res.conditional_volatility**2 * res.params['beta[1]'])"
   ]
  },
  {
   "cell_type": "code",
   "execution_count": 244,
   "metadata": {},
   "outputs": [],
   "source": [
    "df = df.fillna(0)"
   ]
  },
  {
   "cell_type": "code",
   "execution_count": 245,
   "metadata": {},
   "outputs": [
    {
     "data": {
      "image/png": "[encoded data removed]",
      "text/plain": [
       "<Figure size 1152x432 with 1 Axes>"
      ]
     },
     "metadata": {
      "needs_background": "light"
     },
     "output_type": "display_data"
    }
   ],
   "source": [
    "plt.figure(figsize=(16,6))\n",
    "df[\"Volatility\"].plot()\n",
    "df[\"forecast_vol\"].plot()\n",
    "plt.title(\"Real Rolling Volatility vs Forecast by GARCH(1,1)\")\n",
    "plt.legend()\n",
    "plt.show()"
   ]
  },
  {
   "cell_type": "code",
   "execution_count": 246,
   "metadata": {},
   "outputs": [
    {
     "name": "stdout",
     "output_type": "stream",
     "text": [
      "Root Mean Squared Error of the model is calculated as  0.9292177849323945\n"
     ]
    }
   ],
   "source": [
    "def rmse_tr(predictions, targets):\n",
    "    return np.sqrt(((predictions - targets) ** 2).mean())\n",
    "skor = rmse_tr(df.loc[df.index[1000:], 'forecast_vol'], df.loc[df.index[1000:], 'Volatility'])\n",
    "print(\"Root Mean Squared Error of the model is calculated as \",skor)"
   ]
  },
  {
   "cell_type": "code",
   "execution_count": 247,
   "metadata": {},
   "outputs": [
    {
     "data": {
      "text/plain": [
       "(2553, 13)"
      ]
     },
     "execution_count": 247,
     "metadata": {},
     "output_type": "execute_result"
    }
   ],
   "source": [
    "df.shape"
   ]
  },
  {
   "cell_type": "code",
   "execution_count": 248,
   "metadata": {},
   "outputs": [],
   "source": [
    "training_set = df.iloc[:, 11:12].values"
   ]
  },
  {
   "cell_type": "code",
   "execution_count": 178,
   "metadata": {},
   "outputs": [
    {
     "name": "stdout",
     "output_type": "stream",
     "text": [
      "Root Mean Squared Error of the model is calculated as  0.9211900099766523\n"
     ]
    }
   ],
   "source": [
    "def rmse_tr(predictions, targets):\n",
    "    return np.sqrt(((predictions - targets) ** 2).mean())\n",
    "skor = rmse_tr(df.loc[df.index[1000:], 'forecast_vol'], df.loc[df.index[1000:], 'Volatility'])\n",
    "print(\"Root Mean Squared Error of the model is calculated as \",skor)"
   ]
  },
  {
   "cell_type": "code",
   "execution_count": 179,
   "metadata": {},
   "outputs": [],
   "source": [
    "training_set = df.iloc[:, 11:12].values\n",
    "# 100 timestep ve 1 çıktı ile data yapısı oluşturalım\n",
    "X_train = []\n",
    "y_train = []\n",
    "for i in range(1000, df.shape[0]):\n",
    "    X_train.append(training_set[i-1000:i,0])\n",
    "    y_train.append(training_set[i,0])\n",
    "X_train, y_train = np.array(X_train), np.array(y_train)"
   ]
  },
  {
   "cell_type": "code",
   "execution_count": 180,
   "metadata": {},
   "outputs": [
    {
     "data": {
      "text/html": [
       "<div>\n",
       "<style scoped>\n",
       "    .dataframe tbody tr th:only-of-type {\n",
       "        vertical-align: middle;\n",
       "    }\n",
       "\n",
       "    .dataframe tbody tr th {\n",
       "        vertical-align: top;\n",
       "    }\n",
       "\n",
       "    .dataframe thead th {\n",
       "        text-align: right;\n",
       "    }\n",
       "</style>\n",
       "<table border=\"1\" class=\"dataframe\">\n",
       "  <thead>\n",
       "    <tr style=\"text-align: right;\">\n",
       "      <th></th>\n",
       "      <th>Volatility</th>\n",
       "    </tr>\n",
       "  </thead>\n",
       "  <tbody>\n",
       "    <tr>\n",
       "      <th>7330</th>\n",
       "      <td>NaN</td>\n",
       "    </tr>\n",
       "    <tr>\n",
       "      <th>7331</th>\n",
       "      <td>NaN</td>\n",
       "    </tr>\n",
       "    <tr>\n",
       "      <th>7332</th>\n",
       "      <td>NaN</td>\n",
       "    </tr>\n",
       "    <tr>\n",
       "      <th>7333</th>\n",
       "      <td>NaN</td>\n",
       "    </tr>\n",
       "    <tr>\n",
       "      <th>7334</th>\n",
       "      <td>NaN</td>\n",
       "    </tr>\n",
       "    <tr>\n",
       "      <th>...</th>\n",
       "      <td>...</td>\n",
       "    </tr>\n",
       "    <tr>\n",
       "      <th>9908</th>\n",
       "      <td>0.776984</td>\n",
       "    </tr>\n",
       "    <tr>\n",
       "      <th>9909</th>\n",
       "      <td>0.776723</td>\n",
       "    </tr>\n",
       "    <tr>\n",
       "      <th>9910</th>\n",
       "      <td>0.778821</td>\n",
       "    </tr>\n",
       "    <tr>\n",
       "      <th>9911</th>\n",
       "      <td>0.766252</td>\n",
       "    </tr>\n",
       "    <tr>\n",
       "      <th>9912</th>\n",
       "      <td>0.800963</td>\n",
       "    </tr>\n",
       "  </tbody>\n",
       "</table>\n",
       "<p>2583 rows × 1 columns</p>\n",
       "</div>"
      ],
      "text/plain": [
       "      Volatility\n",
       "7330         NaN\n",
       "7331         NaN\n",
       "7332         NaN\n",
       "7333         NaN\n",
       "7334         NaN\n",
       "...          ...\n",
       "9908    0.776984\n",
       "9909    0.776723\n",
       "9910    0.778821\n",
       "9911    0.766252\n",
       "9912    0.800963\n",
       "\n",
       "[2583 rows x 1 columns]"
      ]
     },
     "execution_count": 180,
     "metadata": {},
     "output_type": "execute_result"
    }
   ],
   "source": [
    "df.iloc[:, 11:12]\n"
   ]
  },
  {
   "cell_type": "code",
   "execution_count": 181,
   "metadata": {},
   "outputs": [],
   "source": [
    "from keras.models import Sequential\n",
    "from keras.layers import Dense\n",
    "from keras.layers import LSTM\n",
    "from keras.layers import Dropout"
   ]
  },
  {
   "cell_type": "code",
   "execution_count": 182,
   "metadata": {},
   "outputs": [],
   "source": [
    "X_train = np.reshape(X_train, (X_train.shape[0], X_train.shape[1], 1))\n"
   ]
  },
  {
   "cell_type": "code",
   "execution_count": 108,
   "metadata": {},
   "outputs": [
    {
     "name": "stdout",
     "output_type": "stream",
     "text": [
      "Epoch 1/100\n",
      "1553/1553 [==============================] - 53s 34ms/step - loss: 0.0221\n",
      "Epoch 2/100\n",
      "1553/1553 [==============================] - 53s 34ms/step - loss: 0.0094\n",
      "Epoch 3/100\n",
      "1553/1553 [==============================] - 55s 35ms/step - loss: 0.0075\n",
      "Epoch 4/100\n",
      "1553/1553 [==============================] - 48s 31ms/step - loss: 0.0048\n",
      "Epoch 5/100\n",
      "1553/1553 [==============================] - 48s 31ms/step - loss: 0.0038\n",
      "Epoch 6/100\n",
      "1553/1553 [==============================] - 49s 32ms/step - loss: 0.0034\n",
      "Epoch 7/100\n",
      "1553/1553 [==============================] - 48s 31ms/step - loss: 0.0031\n",
      "Epoch 8/100\n",
      "1553/1553 [==============================] - 48s 31ms/step - loss: 0.0032\n",
      "Epoch 9/100\n",
      "1553/1553 [==============================] - 47s 30ms/step - loss: 0.0033\n",
      "Epoch 10/100\n",
      "1553/1553 [==============================] - 47s 30ms/step - loss: 0.0029\n",
      "Epoch 11/100\n",
      "1553/1553 [==============================] - 47s 30ms/step - loss: 0.0028\n",
      "Epoch 12/100\n",
      "1553/1553 [==============================] - 48s 31ms/step - loss: 0.0029\n",
      "Epoch 13/100\n",
      "1553/1553 [==============================] - 54s 35ms/step - loss: 0.0029\n",
      "Epoch 14/100\n",
      "1553/1553 [==============================] - 57s 36ms/step - loss: 0.0027\n",
      "Epoch 15/100\n",
      "1553/1553 [==============================] - 53s 34ms/step - loss: 0.0028\n",
      "Epoch 16/100\n",
      "1553/1553 [==============================] - 47s 30ms/step - loss: 0.0028\n",
      "Epoch 17/100\n",
      "1553/1553 [==============================] - 45s 29ms/step - loss: 0.0027\n",
      "Epoch 18/100\n",
      "1553/1553 [==============================] - 44s 28ms/step - loss: 0.0026\n",
      "Epoch 19/100\n",
      "1553/1553 [==============================] - 44s 28ms/step - loss: 0.0026\n",
      "Epoch 20/100\n",
      "1553/1553 [==============================] - 45s 29ms/step - loss: 0.0025\n",
      "Epoch 21/100\n",
      "1553/1553 [==============================] - 44s 29ms/step - loss: 0.0026\n",
      "Epoch 22/100\n",
      "1553/1553 [==============================] - 44s 29ms/step - loss: 0.0026\n",
      "Epoch 23/100\n",
      "1553/1553 [==============================] - 44s 29ms/step - loss: 0.0026\n",
      "Epoch 24/100\n",
      "1553/1553 [==============================] - 44s 29ms/step - loss: 0.0024\n",
      "Epoch 25/100\n",
      "1553/1553 [==============================] - 45s 29ms/step - loss: 0.0022\n",
      "Epoch 26/100\n",
      "1553/1553 [==============================] - 44s 29ms/step - loss: 0.0024\n",
      "Epoch 27/100\n",
      "1553/1553 [==============================] - 45s 29ms/step - loss: 0.0022\n",
      "Epoch 28/100\n",
      "1553/1553 [==============================] - 45s 29ms/step - loss: 0.0022\n",
      "Epoch 29/100\n",
      "1553/1553 [==============================] - 44s 29ms/step - loss: 0.0023\n",
      "Epoch 30/100\n",
      "1553/1553 [==============================] - 45s 29ms/step - loss: 0.0020\n",
      "Epoch 31/100\n",
      "1553/1553 [==============================] - 98s 63ms/step - loss: 0.0021\n",
      "Epoch 32/100\n",
      "1553/1553 [==============================] - 55s 35ms/step - loss: 0.0021\n",
      "Epoch 33/100\n",
      "1553/1553 [==============================] - 48s 31ms/step - loss: 0.0020\n",
      "Epoch 34/100\n",
      "1553/1553 [==============================] - 47s 30ms/step - loss: 0.0020\n",
      "Epoch 35/100\n",
      "1553/1553 [==============================] - 51s 33ms/step - loss: 0.0020\n",
      "Epoch 36/100\n",
      "1553/1553 [==============================] - 50s 32ms/step - loss: 0.0018\n",
      "Epoch 37/100\n",
      "1553/1553 [==============================] - 50s 32ms/step - loss: 0.0019\n",
      "Epoch 38/100\n",
      "1553/1553 [==============================] - 49s 32ms/step - loss: 0.0019\n",
      "Epoch 39/100\n",
      "1553/1553 [==============================] - 46s 30ms/step - loss: 0.0016\n",
      "Epoch 40/100\n",
      "1553/1553 [==============================] - 54s 35ms/step - loss: 0.0017\n",
      "Epoch 41/100\n",
      "1553/1553 [==============================] - 48s 31ms/step - loss: 0.0016\n",
      "Epoch 42/100\n",
      "1553/1553 [==============================] - 48s 31ms/step - loss: 0.0016\n",
      "Epoch 43/100\n",
      "1553/1553 [==============================] - 45s 29ms/step - loss: 0.0015\n",
      "Epoch 44/100\n",
      "1553/1553 [==============================] - 45s 29ms/step - loss: 0.0015\n",
      "Epoch 45/100\n",
      "1553/1553 [==============================] - 48s 31ms/step - loss: 0.0014\n",
      "Epoch 46/100\n",
      "1553/1553 [==============================] - 46s 29ms/step - loss: 0.0014\n",
      "Epoch 47/100\n",
      "1553/1553 [==============================] - 46s 29ms/step - loss: 0.0014\n",
      "Epoch 48/100\n",
      "1553/1553 [==============================] - 46s 29ms/step - loss: 0.0016\n",
      "Epoch 49/100\n",
      "1553/1553 [==============================] - 47s 30ms/step - loss: 0.0014\n",
      "Epoch 50/100\n",
      "1553/1553 [==============================] - 48s 31ms/step - loss: 0.0015\n",
      "Epoch 51/100\n",
      "1553/1553 [==============================] - 50s 32ms/step - loss: 0.0016\n",
      "Epoch 52/100\n",
      "1553/1553 [==============================] - 48s 31ms/step - loss: 0.0013\n",
      "Epoch 53/100\n",
      "1553/1553 [==============================] - 47s 30ms/step - loss: 0.0014\n",
      "Epoch 54/100\n",
      "1553/1553 [==============================] - 45s 29ms/step - loss: 0.0016\n",
      "Epoch 55/100\n",
      "1553/1553 [==============================] - 45s 29ms/step - loss: 0.0015\n",
      "Epoch 56/100\n",
      "1553/1553 [==============================] - 45s 29ms/step - loss: 0.0013\n",
      "Epoch 57/100\n",
      "1553/1553 [==============================] - 45s 29ms/step - loss: 0.0012\n",
      "Epoch 58/100\n",
      "1553/1553 [==============================] - 47s 30ms/step - loss: 0.0015\n",
      "Epoch 59/100\n",
      "1553/1553 [==============================] - 47s 30ms/step - loss: 0.0013\n",
      "Epoch 60/100\n",
      "1553/1553 [==============================] - 50s 32ms/step - loss: 0.0015\n",
      "Epoch 61/100\n",
      "1553/1553 [==============================] - 47s 30ms/step - loss: 0.0012\n",
      "Epoch 62/100\n",
      "1553/1553 [==============================] - 48s 31ms/step - loss: 0.0012\n",
      "Epoch 63/100\n",
      "1553/1553 [==============================] - 47s 30ms/step - loss: 0.0011\n",
      "Epoch 64/100\n",
      "1553/1553 [==============================] - 45s 29ms/step - loss: 0.0012\n",
      "Epoch 65/100\n",
      "1553/1553 [==============================] - 44s 28ms/step - loss: 0.0012\n",
      "Epoch 66/100\n",
      "1553/1553 [==============================] - 45s 29ms/step - loss: 0.0012\n",
      "Epoch 67/100\n",
      "1553/1553 [==============================] - 44s 29ms/step - loss: 0.0010\n",
      "Epoch 68/100\n",
      "1553/1553 [==============================] - 44s 29ms/step - loss: 0.0011\n",
      "Epoch 69/100\n",
      "1553/1553 [==============================] - 44s 28ms/step - loss: 0.0010\n",
      "Epoch 70/100\n",
      "1553/1553 [==============================] - 44s 28ms/step - loss: 0.0011\n",
      "Epoch 71/100\n",
      "1553/1553 [==============================] - 45s 29ms/step - loss: 0.0011\n",
      "Epoch 72/100\n",
      "1553/1553 [==============================] - 47s 30ms/step - loss: 9.7641e-04\n",
      "Epoch 73/100\n",
      "1553/1553 [==============================] - 45s 29ms/step - loss: 9.0031e-04\n",
      "Epoch 74/100\n",
      "1553/1553 [==============================] - 45s 29ms/step - loss: 9.5911e-04\n",
      "Epoch 75/100\n",
      "1553/1553 [==============================] - 48s 31ms/step - loss: 9.5817e-04\n",
      "Epoch 76/100\n",
      "1553/1553 [==============================] - 48s 31ms/step - loss: 9.7596e-04\n",
      "Epoch 77/100\n",
      "1553/1553 [==============================] - 48s 31ms/step - loss: 9.7996e-04\n",
      "Epoch 78/100\n",
      "1553/1553 [==============================] - 51s 33ms/step - loss: 0.0010\n",
      "Epoch 79/100\n",
      "1553/1553 [==============================] - 49s 31ms/step - loss: 9.2163e-04\n",
      "Epoch 80/100\n",
      "1553/1553 [==============================] - 48s 31ms/step - loss: 9.2114e-04\n",
      "Epoch 81/100\n",
      "1553/1553 [==============================] - 48s 31ms/step - loss: 0.0012\n",
      "Epoch 82/100\n",
      "1553/1553 [==============================] - 47s 30ms/step - loss: 9.1144e-04\n",
      "Epoch 83/100\n",
      "1553/1553 [==============================] - 48s 31ms/step - loss: 8.7122e-04\n",
      "Epoch 84/100\n",
      "1553/1553 [==============================] - 49s 31ms/step - loss: 9.8747e-04\n",
      "Epoch 85/100\n",
      "1553/1553 [==============================] - 50s 32ms/step - loss: 7.7259e-04\n",
      "Epoch 86/100\n",
      "1553/1553 [==============================] - 47s 30ms/step - loss: 7.6009e-04\n",
      "Epoch 87/100\n",
      "1553/1553 [==============================] - 47s 30ms/step - loss: 8.4235e-04\n",
      "Epoch 88/100\n",
      "1553/1553 [==============================] - 48s 31ms/step - loss: 8.2482e-04\n",
      "Epoch 89/100\n",
      "1553/1553 [==============================] - 46s 30ms/step - loss: 9.0363e-04\n",
      "Epoch 90/100\n",
      "1553/1553 [==============================] - 49s 31ms/step - loss: 8.4932e-04\n",
      "Epoch 91/100\n",
      "1553/1553 [==============================] - 48s 31ms/step - loss: 7.8529e-04\n",
      "Epoch 92/100\n",
      "1553/1553 [==============================] - 48s 31ms/step - loss: 8.4919e-04\n",
      "Epoch 93/100\n",
      "1553/1553 [==============================] - 49s 32ms/step - loss: 8.8593e-04\n",
      "Epoch 94/100\n",
      "1553/1553 [==============================] - 51s 33ms/step - loss: 8.2933e-04\n",
      "Epoch 95/100\n",
      "1553/1553 [==============================] - 49s 32ms/step - loss: 8.6993e-04\n",
      "Epoch 96/100\n",
      "1553/1553 [==============================] - 50s 32ms/step - loss: 8.7511e-04\n",
      "Epoch 97/100\n",
      "1553/1553 [==============================] - 51s 33ms/step - loss: 8.5314e-04\n",
      "Epoch 98/100\n",
      "1553/1553 [==============================] - 50s 32ms/step - loss: 8.0673e-04\n",
      "Epoch 99/100\n",
      "1553/1553 [==============================] - 51s 33ms/step - loss: 7.8252e-04\n",
      "Epoch 100/100\n",
      "1553/1553 [==============================] - 53s 34ms/step - loss: 7.8736e-04\n"
     ]
    },
    {
     "data": {
      "text/plain": [
       "<keras.callbacks.callbacks.History at 0x14eb89e48>"
      ]
     },
     "execution_count": 108,
     "metadata": {},
     "output_type": "execute_result"
    }
   ],
   "source": [
    "regressor = Sequential()\n",
    "\n",
    "# Adding the first LSTM layer and some Dropout regularisation\n",
    "regressor.add(LSTM(units = 10, return_sequences = True, input_shape = (X_train.shape[1], 1)))\n",
    "regressor.add(Dropout(0.1))\n",
    "\n",
    "# Adding a second LSTM layer and some Dropout regularisation\n",
    "regressor.add(LSTM(units = 10, return_sequences = True))\n",
    "regressor.add(Dropout(0.1))\n",
    "\n",
    "# Adding a third LSTM layer and some Dropout regularisation\n",
    "regressor.add(LSTM(units = 10, return_sequences = True))\n",
    "regressor.add(Dropout(0.1))\n",
    "\n",
    "# Adding a fourth LSTM layer and some Dropout regularisation\n",
    "regressor.add(LSTM(units = 10))\n",
    "regressor.add(Dropout(0.1))\n",
    "\n",
    "# Adding the output layer\n",
    "regressor.add(Dense(units = 1))\n",
    "\n",
    "# Compiling the RNN\n",
    "regressor.compile(optimizer = 'adam', loss = 'mean_squared_error')\n",
    "\n",
    "# Fitting the RNN to the Training set\n",
    "regressor.fit(X_train, y_train, epochs = 100, batch_size = 32)"
   ]
  },
  {
   "cell_type": "code",
   "execution_count": 109,
   "metadata": {},
   "outputs": [],
   "source": [
    "regressor.save('my_modelp1.h5')"
   ]
  },
  {
   "cell_type": "code",
   "execution_count": 110,
   "metadata": {},
   "outputs": [],
   "source": [
    "predicted_stock_price = regressor.predict(X_train)"
   ]
  },
  {
   "cell_type": "code",
   "execution_count": 153,
   "metadata": {},
   "outputs": [],
   "source": [
    "from keras.models import load_model\n",
    "regressor = load_model('my_modelp1.h5')"
   ]
  },
  {
   "cell_type": "code",
   "execution_count": 111,
   "metadata": {},
   "outputs": [
    {
     "data": {
      "image/png": "[encoded data removed]",
      "text/plain": [
       "<Figure size 1296x432 with 1 Axes>"
      ]
     },
     "metadata": {
      "needs_background": "light"
     },
     "output_type": "display_data"
    }
   ],
   "source": [
    "plt.figure(figsize=(18,6))\n",
    "plt.plot(df.iloc[1000:, 11:12].values, color = 'red', label = 'Observed Volatility')\n",
    "plt.plot(predicted_stock_price, color = 'blue', label = 'Predicted Volatility By LSTM')\n",
    "plt.title('Real Rolling Volatility vs Forecast of LSTM')\n",
    "plt.xlabel('Time')\n",
    "plt.ylabel('Volatility')\n",
    "plt.legend()\n",
    "plt.show()"
   ]
  },
  {
   "cell_type": "code",
   "execution_count": 210,
   "metadata": {},
   "outputs": [
    {
     "data": {
      "text/html": [
       "<div>\n",
       "<style scoped>\n",
       "    .dataframe tbody tr th:only-of-type {\n",
       "        vertical-align: middle;\n",
       "    }\n",
       "\n",
       "    .dataframe tbody tr th {\n",
       "        vertical-align: top;\n",
       "    }\n",
       "\n",
       "    .dataframe thead th {\n",
       "        text-align: right;\n",
       "    }\n",
       "</style>\n",
       "<table border=\"1\" class=\"dataframe\">\n",
       "  <thead>\n",
       "    <tr style=\"text-align: right;\">\n",
       "      <th></th>\n",
       "      <th>index</th>\n",
       "      <th>Date</th>\n",
       "      <th>Open</th>\n",
       "      <th>High</th>\n",
       "      <th>Low</th>\n",
       "      <th>Close</th>\n",
       "      <th>Volume</th>\n",
       "      <th>change%</th>\n",
       "      <th>log_price</th>\n",
       "      <th>pct_change</th>\n",
       "      <th>stdev</th>\n",
       "      <th>Volatility</th>\n",
       "      <th>forecast_vol</th>\n",
       "    </tr>\n",
       "  </thead>\n",
       "  <tbody>\n",
       "    <tr>\n",
       "      <th>7330</th>\n",
       "      <td>7330</td>\n",
       "      <td>2010-01-04</td>\n",
       "      <td>30.490000</td>\n",
       "      <td>30.642857</td>\n",
       "      <td>30.340000</td>\n",
       "      <td>30.572857</td>\n",
       "      <td>123432400</td>\n",
       "      <td>NaN</td>\n",
       "      <td>3.417399</td>\n",
       "      <td>NaN</td>\n",
       "      <td>NaN</td>\n",
       "      <td>NaN</td>\n",
       "      <td>NaN</td>\n",
       "    </tr>\n",
       "    <tr>\n",
       "      <th>7331</th>\n",
       "      <td>7331</td>\n",
       "      <td>2010-01-05</td>\n",
       "      <td>30.657143</td>\n",
       "      <td>30.798571</td>\n",
       "      <td>30.464285</td>\n",
       "      <td>30.625713</td>\n",
       "      <td>150476200</td>\n",
       "      <td>0.548189</td>\n",
       "      <td>3.422866</td>\n",
       "      <td>0.005467</td>\n",
       "      <td>NaN</td>\n",
       "      <td>NaN</td>\n",
       "      <td>NaN</td>\n",
       "    </tr>\n",
       "    <tr>\n",
       "      <th>7332</th>\n",
       "      <td>7332</td>\n",
       "      <td>2010-01-06</td>\n",
       "      <td>30.625713</td>\n",
       "      <td>30.747143</td>\n",
       "      <td>30.107143</td>\n",
       "      <td>30.138571</td>\n",
       "      <td>138040000</td>\n",
       "      <td>-0.102519</td>\n",
       "      <td>3.421840</td>\n",
       "      <td>-0.001026</td>\n",
       "      <td>NaN</td>\n",
       "      <td>NaN</td>\n",
       "      <td>NaN</td>\n",
       "    </tr>\n",
       "    <tr>\n",
       "      <th>7333</th>\n",
       "      <td>7333</td>\n",
       "      <td>2010-01-07</td>\n",
       "      <td>30.250000</td>\n",
       "      <td>30.285715</td>\n",
       "      <td>29.864286</td>\n",
       "      <td>30.082857</td>\n",
       "      <td>119282800</td>\n",
       "      <td>-1.226791</td>\n",
       "      <td>3.409496</td>\n",
       "      <td>-0.012344</td>\n",
       "      <td>NaN</td>\n",
       "      <td>NaN</td>\n",
       "      <td>NaN</td>\n",
       "    </tr>\n",
       "    <tr>\n",
       "      <th>7334</th>\n",
       "      <td>7334</td>\n",
       "      <td>2010-01-08</td>\n",
       "      <td>30.042856</td>\n",
       "      <td>30.285715</td>\n",
       "      <td>29.865715</td>\n",
       "      <td>30.282858</td>\n",
       "      <td>111902700</td>\n",
       "      <td>-0.684773</td>\n",
       "      <td>3.402625</td>\n",
       "      <td>-0.006871</td>\n",
       "      <td>NaN</td>\n",
       "      <td>NaN</td>\n",
       "      <td>NaN</td>\n",
       "    </tr>\n",
       "    <tr>\n",
       "      <th>...</th>\n",
       "      <td>...</td>\n",
       "      <td>...</td>\n",
       "      <td>...</td>\n",
       "      <td>...</td>\n",
       "      <td>...</td>\n",
       "      <td>...</td>\n",
       "      <td>...</td>\n",
       "      <td>...</td>\n",
       "      <td>...</td>\n",
       "      <td>...</td>\n",
       "      <td>...</td>\n",
       "      <td>...</td>\n",
       "      <td>...</td>\n",
       "    </tr>\n",
       "    <tr>\n",
       "      <th>9908</th>\n",
       "      <td>9908</td>\n",
       "      <td>2020-04-01</td>\n",
       "      <td>246.500000</td>\n",
       "      <td>248.720001</td>\n",
       "      <td>239.130005</td>\n",
       "      <td>240.910004</td>\n",
       "      <td>44054600</td>\n",
       "      <td>-3.560253</td>\n",
       "      <td>5.507362</td>\n",
       "      <td>-0.036252</td>\n",
       "      <td>0.048945</td>\n",
       "      <td>0.776984</td>\n",
       "      <td>5.280756</td>\n",
       "    </tr>\n",
       "    <tr>\n",
       "      <th>9909</th>\n",
       "      <td>9909</td>\n",
       "      <td>2020-04-02</td>\n",
       "      <td>240.339996</td>\n",
       "      <td>245.149994</td>\n",
       "      <td>236.899994</td>\n",
       "      <td>244.929993</td>\n",
       "      <td>41483500</td>\n",
       "      <td>-2.498987</td>\n",
       "      <td>5.482055</td>\n",
       "      <td>-0.025307</td>\n",
       "      <td>0.048929</td>\n",
       "      <td>0.776723</td>\n",
       "      <td>5.278200</td>\n",
       "    </tr>\n",
       "    <tr>\n",
       "      <th>9910</th>\n",
       "      <td>9910</td>\n",
       "      <td>2020-04-03</td>\n",
       "      <td>242.800003</td>\n",
       "      <td>245.699997</td>\n",
       "      <td>238.970001</td>\n",
       "      <td>241.410004</td>\n",
       "      <td>32470000</td>\n",
       "      <td>1.023553</td>\n",
       "      <td>5.492238</td>\n",
       "      <td>0.010183</td>\n",
       "      <td>0.049061</td>\n",
       "      <td>0.778821</td>\n",
       "      <td>5.298776</td>\n",
       "    </tr>\n",
       "    <tr>\n",
       "      <th>9911</th>\n",
       "      <td>9911</td>\n",
       "      <td>2020-04-06</td>\n",
       "      <td>250.899994</td>\n",
       "      <td>263.109985</td>\n",
       "      <td>249.380005</td>\n",
       "      <td>262.470001</td>\n",
       "      <td>50289700</td>\n",
       "      <td>3.336075</td>\n",
       "      <td>5.525054</td>\n",
       "      <td>0.032816</td>\n",
       "      <td>0.048269</td>\n",
       "      <td>0.766252</td>\n",
       "      <td>5.175498</td>\n",
       "    </tr>\n",
       "    <tr>\n",
       "      <th>9912</th>\n",
       "      <td>9912</td>\n",
       "      <td>2020-04-07</td>\n",
       "      <td>270.799988</td>\n",
       "      <td>271.700012</td>\n",
       "      <td>259.000000</td>\n",
       "      <td>259.429993</td>\n",
       "      <td>50721831</td>\n",
       "      <td>7.931445</td>\n",
       "      <td>5.601380</td>\n",
       "      <td>0.076326</td>\n",
       "      <td>0.050456</td>\n",
       "      <td>0.800963</td>\n",
       "      <td>5.515959</td>\n",
       "    </tr>\n",
       "  </tbody>\n",
       "</table>\n",
       "<p>2583 rows × 13 columns</p>\n",
       "</div>"
      ],
      "text/plain": [
       "      index       Date        Open        High         Low       Close  \\\n",
       "7330   7330 2010-01-04   30.490000   30.642857   30.340000   30.572857   \n",
       "7331   7331 2010-01-05   30.657143   30.798571   30.464285   30.625713   \n",
       "7332   7332 2010-01-06   30.625713   30.747143   30.107143   30.138571   \n",
       "7333   7333 2010-01-07   30.250000   30.285715   29.864286   30.082857   \n",
       "7334   7334 2010-01-08   30.042856   30.285715   29.865715   30.282858   \n",
       "...     ...        ...         ...         ...         ...         ...   \n",
       "9908   9908 2020-04-01  246.500000  248.720001  239.130005  240.910004   \n",
       "9909   9909 2020-04-02  240.339996  245.149994  236.899994  244.929993   \n",
       "9910   9910 2020-04-03  242.800003  245.699997  238.970001  241.410004   \n",
       "9911   9911 2020-04-06  250.899994  263.109985  249.380005  262.470001   \n",
       "9912   9912 2020-04-07  270.799988  271.700012  259.000000  259.429993   \n",
       "\n",
       "         Volume   change%  log_price  pct_change     stdev  Volatility  \\\n",
       "7330  123432400       NaN   3.417399         NaN       NaN         NaN   \n",
       "7331  150476200  0.548189   3.422866    0.005467       NaN         NaN   \n",
       "7332  138040000 -0.102519   3.421840   -0.001026       NaN         NaN   \n",
       "7333  119282800 -1.226791   3.409496   -0.012344       NaN         NaN   \n",
       "7334  111902700 -0.684773   3.402625   -0.006871       NaN         NaN   \n",
       "...         ...       ...        ...         ...       ...         ...   \n",
       "9908   44054600 -3.560253   5.507362   -0.036252  0.048945    0.776984   \n",
       "9909   41483500 -2.498987   5.482055   -0.025307  0.048929    0.776723   \n",
       "9910   32470000  1.023553   5.492238    0.010183  0.049061    0.778821   \n",
       "9911   50289700  3.336075   5.525054    0.032816  0.048269    0.766252   \n",
       "9912   50721831  7.931445   5.601380    0.076326  0.050456    0.800963   \n",
       "\n",
       "      forecast_vol  \n",
       "7330           NaN  \n",
       "7331           NaN  \n",
       "7332           NaN  \n",
       "7333           NaN  \n",
       "7334           NaN  \n",
       "...            ...  \n",
       "9908      5.280756  \n",
       "9909      5.278200  \n",
       "9910      5.298776  \n",
       "9911      5.175498  \n",
       "9912      5.515959  \n",
       "\n",
       "[2583 rows x 13 columns]"
      ]
     },
     "execution_count": 210,
     "metadata": {},
     "output_type": "execute_result"
    }
   ],
   "source": [
    "df"
   ]
  },
  {
   "cell_type": "code",
   "execution_count": 249,
   "metadata": {},
   "outputs": [],
   "source": [
    "training_set = df.iloc[:, 11:13].values\n",
    "# 100 timestep ve 1 çıktı ile data yapısı oluşturalım\n",
    "X_train = []\n",
    "y_train = []\n",
    "for i in range(1000, df.shape[0]):\n",
    "    X_train.append(training_set[i-1000:i,:])\n",
    "    y_train.append(training_set[i,0])\n",
    "X_train, y_train = np.array(X_train), np.array(y_train)"
   ]
  },
  {
   "cell_type": "code",
   "execution_count": 250,
   "metadata": {},
   "outputs": [],
   "source": [
    "X_train = np.reshape(X_train, (X_train.shape[0], X_train.shape[1], 2))\n"
   ]
  },
  {
   "cell_type": "code",
   "execution_count": 252,
   "metadata": {},
   "outputs": [
    {
     "name": "stdout",
     "output_type": "stream",
     "text": [
      "Epoch 1/100\n",
      "1553/1553 [==============================] - 54s 35ms/step - loss: 0.0175\n",
      "Epoch 2/100\n",
      "1553/1553 [==============================] - 53s 34ms/step - loss: 0.0092\n",
      "Epoch 3/100\n",
      "1553/1553 [==============================] - 46s 30ms/step - loss: 0.0072\n",
      "Epoch 4/100\n",
      "1553/1553 [==============================] - 45s 29ms/step - loss: 0.0065\n",
      "Epoch 5/100\n",
      "1553/1553 [==============================] - 46s 29ms/step - loss: 0.0052\n",
      "Epoch 6/100\n",
      "1553/1553 [==============================] - 46s 30ms/step - loss: 0.0042\n",
      "Epoch 7/100\n",
      "1553/1553 [==============================] - 50s 32ms/step - loss: 0.0040\n",
      "Epoch 8/100\n",
      "1553/1553 [==============================] - 50s 32ms/step - loss: 0.0040\n",
      "Epoch 9/100\n",
      "1553/1553 [==============================] - 49s 31ms/step - loss: 0.0035\n",
      "Epoch 10/100\n",
      "1553/1553 [==============================] - 50s 32ms/step - loss: 0.0036\n",
      "Epoch 11/100\n",
      "1553/1553 [==============================] - 49s 32ms/step - loss: 0.0036\n",
      "Epoch 12/100\n",
      "1553/1553 [==============================] - 49s 32ms/step - loss: 0.0034\n",
      "Epoch 13/100\n",
      "1553/1553 [==============================] - 49s 32ms/step - loss: 0.0034\n",
      "Epoch 14/100\n",
      "1553/1553 [==============================] - 77s 50ms/step - loss: 0.0030\n",
      "Epoch 15/100\n",
      "1553/1553 [==============================] - 78s 50ms/step - loss: 0.0029\n",
      "Epoch 16/100\n",
      "1553/1553 [==============================] - 80s 51ms/step - loss: 0.0030\n",
      "Epoch 17/100\n",
      "1553/1553 [==============================] - 79s 51ms/step - loss: 0.0030\n",
      "Epoch 18/100\n",
      "1553/1553 [==============================] - 76s 49ms/step - loss: 0.0031\n",
      "Epoch 19/100\n",
      "1553/1553 [==============================] - 76s 49ms/step - loss: 0.0028\n",
      "Epoch 20/100\n",
      "1553/1553 [==============================] - 74s 48ms/step - loss: 0.0026\n",
      "Epoch 21/100\n",
      "1553/1553 [==============================] - 74s 47ms/step - loss: 0.0024\n",
      "Epoch 22/100\n",
      "1553/1553 [==============================] - 73s 47ms/step - loss: 0.0026\n",
      "Epoch 23/100\n",
      "1553/1553 [==============================] - 73s 47ms/step - loss: 0.0022\n",
      "Epoch 24/100\n",
      "1553/1553 [==============================] - 73s 47ms/step - loss: 0.0024\n",
      "Epoch 25/100\n",
      "1553/1553 [==============================] - 74s 47ms/step - loss: 0.0024\n",
      "Epoch 26/100\n",
      "1553/1553 [==============================] - 74s 47ms/step - loss: 0.0024\n",
      "Epoch 27/100\n",
      "1553/1553 [==============================] - 73s 47ms/step - loss: 0.0024\n",
      "Epoch 28/100\n",
      "1553/1553 [==============================] - 74s 48ms/step - loss: 0.0022\n",
      "Epoch 29/100\n",
      "1553/1553 [==============================] - 75s 48ms/step - loss: 0.0022\n",
      "Epoch 30/100\n",
      "1553/1553 [==============================] - 74s 48ms/step - loss: 0.0019\n",
      "Epoch 31/100\n",
      "1553/1553 [==============================] - 73s 47ms/step - loss: 0.0021\n",
      "Epoch 32/100\n",
      "1553/1553 [==============================] - 75s 48ms/step - loss: 0.0020\n",
      "Epoch 33/100\n",
      "1553/1553 [==============================] - 76s 49ms/step - loss: 0.0020\n",
      "Epoch 34/100\n",
      "1553/1553 [==============================] - 73s 47ms/step - loss: 0.0021\n",
      "Epoch 35/100\n",
      "1553/1553 [==============================] - 73s 47ms/step - loss: 0.0019\n",
      "Epoch 36/100\n",
      "1553/1553 [==============================] - 73s 47ms/step - loss: 0.0018\n",
      "Epoch 37/100\n",
      "1553/1553 [==============================] - 74s 47ms/step - loss: 0.0019\n",
      "Epoch 38/100\n",
      "1553/1553 [==============================] - 78s 50ms/step - loss: 0.0018\n",
      "Epoch 39/100\n",
      "1553/1553 [==============================] - 74s 48ms/step - loss: 0.0018\n",
      "Epoch 40/100\n",
      "1553/1553 [==============================] - 72s 47ms/step - loss: 0.0021\n",
      "Epoch 41/100\n",
      "1553/1553 [==============================] - 74s 48ms/step - loss: 0.0017\n",
      "Epoch 42/100\n",
      "1553/1553 [==============================] - 73s 47ms/step - loss: 0.0019\n",
      "Epoch 43/100\n",
      "1553/1553 [==============================] - 76s 49ms/step - loss: 0.0018\n",
      "Epoch 44/100\n",
      "1553/1553 [==============================] - 74s 48ms/step - loss: 0.0017\n",
      "Epoch 45/100\n",
      "1553/1553 [==============================] - 75s 49ms/step - loss: 0.0019\n",
      "Epoch 46/100\n",
      "1553/1553 [==============================] - 75s 48ms/step - loss: 0.0018\n",
      "Epoch 47/100\n",
      "1553/1553 [==============================] - 78s 51ms/step - loss: 0.0018\n",
      "Epoch 48/100\n",
      "1553/1553 [==============================] - 79s 51ms/step - loss: 0.0017\n",
      "Epoch 49/100\n",
      "1553/1553 [==============================] - 72s 47ms/step - loss: 0.0016\n",
      "Epoch 50/100\n",
      "1553/1553 [==============================] - 73s 47ms/step - loss: 0.0017\n",
      "Epoch 51/100\n",
      "1553/1553 [==============================] - 74s 48ms/step - loss: 0.0017\n",
      "Epoch 52/100\n",
      "1553/1553 [==============================] - 73s 47ms/step - loss: 0.0016\n",
      "Epoch 53/100\n",
      "1553/1553 [==============================] - 78s 50ms/step - loss: 0.0016\n",
      "Epoch 54/100\n",
      "1553/1553 [==============================] - 78s 50ms/step - loss: 0.0015\n",
      "Epoch 55/100\n",
      "1553/1553 [==============================] - 81s 52ms/step - loss: 0.0014\n",
      "Epoch 56/100\n",
      "1553/1553 [==============================] - 76s 49ms/step - loss: 0.0016\n",
      "Epoch 57/100\n",
      "1553/1553 [==============================] - 75s 48ms/step - loss: 0.0014\n",
      "Epoch 58/100\n",
      "1553/1553 [==============================] - 63s 41ms/step - loss: 0.0016\n",
      "Epoch 59/100\n",
      "1553/1553 [==============================] - 45s 29ms/step - loss: 0.0015\n",
      "Epoch 60/100\n",
      "1553/1553 [==============================] - 45s 29ms/step - loss: 0.0016\n",
      "Epoch 61/100\n",
      "1553/1553 [==============================] - 45s 29ms/step - loss: 0.0016\n",
      "Epoch 62/100\n",
      "1553/1553 [==============================] - 44s 28ms/step - loss: 0.0015\n",
      "Epoch 63/100\n",
      "1553/1553 [==============================] - 44s 28ms/step - loss: 0.0013\n",
      "Epoch 64/100\n",
      "1553/1553 [==============================] - 43s 28ms/step - loss: 0.0013\n",
      "Epoch 65/100\n",
      "1553/1553 [==============================] - 46s 30ms/step - loss: 0.0015\n",
      "Epoch 66/100\n",
      "1553/1553 [==============================] - 45s 29ms/step - loss: 0.0015\n",
      "Epoch 67/100\n",
      "1553/1553 [==============================] - 47s 30ms/step - loss: 0.0015\n",
      "Epoch 68/100\n",
      "1553/1553 [==============================] - 46s 30ms/step - loss: 0.0013\n",
      "Epoch 69/100\n",
      "1553/1553 [==============================] - 47s 30ms/step - loss: 0.0013\n",
      "Epoch 70/100\n",
      "1553/1553 [==============================] - 45s 29ms/step - loss: 0.0013\n",
      "Epoch 71/100\n",
      "1553/1553 [==============================] - 47s 30ms/step - loss: 0.0011\n",
      "Epoch 72/100\n",
      "1553/1553 [==============================] - 48s 31ms/step - loss: 0.0014\n",
      "Epoch 73/100\n",
      "1553/1553 [==============================] - 47s 31ms/step - loss: 0.0013\n",
      "Epoch 74/100\n",
      "1553/1553 [==============================] - 50s 32ms/step - loss: 0.0014\n",
      "Epoch 75/100\n",
      "1553/1553 [==============================] - 49s 31ms/step - loss: 0.0012\n",
      "Epoch 76/100\n",
      "1553/1553 [==============================] - 49s 31ms/step - loss: 0.0013\n",
      "Epoch 77/100\n",
      "1553/1553 [==============================] - 49s 32ms/step - loss: 0.0012\n",
      "Epoch 78/100\n",
      "1553/1553 [==============================] - 48s 31ms/step - loss: 0.0013\n",
      "Epoch 79/100\n",
      "1553/1553 [==============================] - 46s 30ms/step - loss: 0.0012\n",
      "Epoch 80/100\n",
      "1553/1553 [==============================] - 47s 31ms/step - loss: 0.0013\n",
      "Epoch 81/100\n",
      "1553/1553 [==============================] - 48s 31ms/step - loss: 0.0012\n",
      "Epoch 82/100\n",
      "1553/1553 [==============================] - 48s 31ms/step - loss: 0.0011\n",
      "Epoch 83/100\n",
      "1553/1553 [==============================] - 49s 31ms/step - loss: 0.0013\n",
      "Epoch 84/100\n",
      "1553/1553 [==============================] - 48s 31ms/step - loss: 0.0011\n",
      "Epoch 85/100\n",
      "1553/1553 [==============================] - 47s 30ms/step - loss: 0.0012\n",
      "Epoch 86/100\n",
      "1553/1553 [==============================] - 48s 31ms/step - loss: 0.0011\n",
      "Epoch 87/100\n",
      "1553/1553 [==============================] - 44s 28ms/step - loss: 0.0011\n",
      "Epoch 88/100\n",
      "1553/1553 [==============================] - 44s 28ms/step - loss: 0.0012\n",
      "Epoch 89/100\n",
      "1553/1553 [==============================] - 44s 28ms/step - loss: 0.0011\n",
      "Epoch 90/100\n",
      "1553/1553 [==============================] - 44s 28ms/step - loss: 0.0011\n",
      "Epoch 91/100\n",
      "1553/1553 [==============================] - 49s 31ms/step - loss: 0.0011\n",
      "Epoch 92/100\n",
      "1553/1553 [==============================] - 47s 30ms/step - loss: 0.0011\n",
      "Epoch 93/100\n",
      "1553/1553 [==============================] - 48s 31ms/step - loss: 0.0010\n",
      "Epoch 94/100\n",
      "1553/1553 [==============================] - 46s 29ms/step - loss: 0.0011\n",
      "Epoch 95/100\n",
      "1553/1553 [==============================] - 47s 31ms/step - loss: 0.0010\n",
      "Epoch 96/100\n",
      "1553/1553 [==============================] - 49s 31ms/step - loss: 0.0011\n",
      "Epoch 97/100\n",
      "1553/1553 [==============================] - 47s 30ms/step - loss: 0.0011\n",
      "Epoch 98/100\n",
      "1553/1553 [==============================] - 50s 32ms/step - loss: 0.0010\n",
      "Epoch 99/100\n",
      "1553/1553 [==============================] - 55s 35ms/step - loss: 0.0010\n",
      "Epoch 100/100\n",
      "1553/1553 [==============================] - 62s 40ms/step - loss: 9.7432e-04\n"
     ]
    },
    {
     "data": {
      "text/plain": [
       "<keras.callbacks.callbacks.History at 0x15ae661d0>"
      ]
     },
     "execution_count": 252,
     "metadata": {},
     "output_type": "execute_result"
    }
   ],
   "source": [
    "regressor = Sequential()\n",
    "\n",
    "# Adding the first LSTM layer and some Dropout regularisation\n",
    "regressor.add(LSTM(units = 10, return_sequences = True, input_shape = (X_train.shape[1], 2)))\n",
    "regressor.add(Dropout(0.1))\n",
    "\n",
    "# Adding a second LSTM layer and some Dropout regularisation\n",
    "regressor.add(LSTM(units = 10, return_sequences = True))\n",
    "regressor.add(Dropout(0.1))\n",
    "\n",
    "# Adding a third LSTM layer and some Dropout regularisation\n",
    "regressor.add(LSTM(units = 10, return_sequences = True))\n",
    "regressor.add(Dropout(0.1))\n",
    "\n",
    "# Adding a fourth LSTM layer and some Dropout regularisation\n",
    "regressor.add(LSTM(units = 10))\n",
    "regressor.add(Dropout(0.1))\n",
    "\n",
    "# Adding the output layer\n",
    "regressor.add(Dense(units = 1))\n",
    "\n",
    "# Compiling the RNN\n",
    "regressor.compile(optimizer = 'adam', loss = 'mean_squared_error')\n",
    "\n",
    "# Fitting the RNN to the Training set\n",
    "regressor.fit(X_train, y_train, epochs = 100, batch_size = 32)"
   ]
  },
  {
   "cell_type": "code",
   "execution_count": 253,
   "metadata": {},
   "outputs": [],
   "source": [
    "predicted_stock_price = regressor.predict(X_train)"
   ]
  },
  {
   "cell_type": "code",
   "execution_count": 221,
   "metadata": {},
   "outputs": [
    {
     "data": {
      "text/plain": [
       "array([[nan],\n",
       "       [nan],\n",
       "       [nan],\n",
       "       ...,\n",
       "       [nan],\n",
       "       [nan],\n",
       "       [nan]], dtype=float32)"
      ]
     },
     "execution_count": 221,
     "metadata": {},
     "output_type": "execute_result"
    }
   ],
   "source": [
    "predicted_stock_price"
   ]
  },
  {
   "cell_type": "code",
   "execution_count": 254,
   "metadata": {},
   "outputs": [
    {
     "data": {
      "image/png": "[encoded data removed]",
      "text/plain": [
       "<Figure size 1296x432 with 1 Axes>"
      ]
     },
     "metadata": {
      "needs_background": "light"
     },
     "output_type": "display_data"
    }
   ],
   "source": [
    "# Visualising the results\n",
    "plt.figure(figsize=(18,6))\n",
    "plt.plot(df.iloc[1000:, 11:12].values, color = 'red', label = 'Observed Volatility')\n",
    "plt.plot(predicted_stock_price, color = 'blue', label = 'Predicted Volatility By LSTM-GARCH(1,1)')\n",
    "plt.title('Real Rolling Volatility vs Forecast of LSTM-GARCH(1,1)')\n",
    "plt.xlabel('Time')\n",
    "plt.ylabel('Volatility')\n",
    "plt.legend()\n",
    "plt.show()"
   ]
  },
  {
   "cell_type": "code",
   "execution_count": 255,
   "metadata": {},
   "outputs": [],
   "source": [
    "skor3 = rmse_tr(predicted_stock_price, np.array(df.loc[df.index[1000:], 'Volatility']))"
   ]
  },
  {
   "cell_type": "code",
   "execution_count": 257,
   "metadata": {},
   "outputs": [
    {
     "name": "stdout",
     "output_type": "stream",
     "text": [
      "0.15508660091635929\n"
     ]
    }
   ],
   "source": [
    "print(skor3)"
   ]
  },
  {
   "cell_type": "code",
   "execution_count": null,
   "metadata": {},
   "outputs": [],
   "source": []
  }
 ],
 "metadata": {
  "kernelspec": {
   "display_name": "Python 3",
   "language": "python",
   "name": "python3"
  },
  "language_info": {
   "codemirror_mode": {
    "name": "ipython",
    "version": 3
   },
   "file_extension": ".py",
   "mimetype": "text/x-python",
   "name": "python",
   "nbconvert_exporter": "python",
   "pygments_lexer": "ipython3",
   "version": "3.7.3"
  }
 },
 "nbformat": 4,
 "nbformat_minor": 2
}
