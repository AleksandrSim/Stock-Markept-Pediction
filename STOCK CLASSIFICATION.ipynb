{
 "cells": [
  {
   "cell_type": "code",
   "execution_count": 15,
   "metadata": {},
   "outputs": [],
   "source": [
    "import matplotlib.pyplot as plt\n",
    "plt.rcParams['figure.figsize'] = (7,4.5) # Make the default figures a bit bigger\n",
    "\n",
    "import numpy as np\n",
    "import random\n",
    "\n",
    "#Let's make this notebook reproducible \n",
    "np.random.seed(42)\n",
    "random.seed(42)\n",
    "import pandas_technical_indicators as ta\n",
    "\n",
    "import pandas as pd\n",
    "from sklearn.ensemble import RandomForestClassifier\n",
    "\n",
    "from sklearn.metrics import f1_score, precision_score, confusion_matrix, recall_score, accuracy_score\n",
    "from sklearn.model_selection import train_test_split"
   ]
  },
  {
   "cell_type": "code",
   "execution_count": 16,
   "metadata": {},
   "outputs": [],
   "source": [
    "df = pd.read_csv(\"apple1\")"
   ]
  },
  {
   "cell_type": "code",
   "execution_count": 17,
   "metadata": {},
   "outputs": [],
   "source": [
    "apple = df.drop(['Unnamed: 0'], axis = 1)"
   ]
  },
  {
   "cell_type": "code",
   "execution_count": 18,
   "metadata": {},
   "outputs": [],
   "source": [
    "\n",
    "def get_exp_preprocessing(df, alpha=0.9):\n",
    "    edata = df.ewm(alpha=alpha).mean()    \n",
    "    return edata"
   ]
  },
  {
   "cell_type": "code",
   "execution_count": 19,
   "metadata": {},
   "outputs": [
    {
     "data": {
      "text/html": [
       "<div>\n",
       "<style scoped>\n",
       "    .dataframe tbody tr th:only-of-type {\n",
       "        vertical-align: middle;\n",
       "    }\n",
       "\n",
       "    .dataframe tbody tr th {\n",
       "        vertical-align: top;\n",
       "    }\n",
       "\n",
       "    .dataframe thead th {\n",
       "        text-align: right;\n",
       "    }\n",
       "</style>\n",
       "<table border=\"1\" class=\"dataframe\">\n",
       "  <thead>\n",
       "    <tr style=\"text-align: right;\">\n",
       "      <th></th>\n",
       "      <th>Open</th>\n",
       "      <th>Low</th>\n",
       "      <th>High</th>\n",
       "      <th>Close</th>\n",
       "      <th>Volume</th>\n",
       "    </tr>\n",
       "  </thead>\n",
       "  <tbody>\n",
       "    <tr>\n",
       "      <th>0</th>\n",
       "      <td>30.490000</td>\n",
       "      <td>30.340000</td>\n",
       "      <td>30.642857</td>\n",
       "      <td>30.572857</td>\n",
       "      <td>1.234324e+08</td>\n",
       "    </tr>\n",
       "    <tr>\n",
       "      <th>1</th>\n",
       "      <td>30.641948</td>\n",
       "      <td>30.452986</td>\n",
       "      <td>30.784415</td>\n",
       "      <td>30.620908</td>\n",
       "      <td>1.480177e+08</td>\n",
       "    </tr>\n",
       "    <tr>\n",
       "      <th>2</th>\n",
       "      <td>30.627322</td>\n",
       "      <td>30.141416</td>\n",
       "      <td>30.750836</td>\n",
       "      <td>30.186370</td>\n",
       "      <td>1.390288e+08</td>\n",
       "    </tr>\n",
       "    <tr>\n",
       "      <th>3</th>\n",
       "      <td>30.287698</td>\n",
       "      <td>29.891974</td>\n",
       "      <td>30.332185</td>\n",
       "      <td>30.093199</td>\n",
       "      <td>1.212556e+08</td>\n",
       "    </tr>\n",
       "    <tr>\n",
       "      <th>4</th>\n",
       "      <td>30.067338</td>\n",
       "      <td>29.868341</td>\n",
       "      <td>30.290362</td>\n",
       "      <td>30.263894</td>\n",
       "      <td>1.128379e+08</td>\n",
       "    </tr>\n",
       "  </tbody>\n",
       "</table>\n",
       "</div>"
      ],
      "text/plain": [
       "        Open        Low       High      Close        Volume\n",
       "0  30.490000  30.340000  30.642857  30.572857  1.234324e+08\n",
       "1  30.641948  30.452986  30.784415  30.620908  1.480177e+08\n",
       "2  30.627322  30.141416  30.750836  30.186370  1.390288e+08\n",
       "3  30.287698  29.891974  30.332185  30.093199  1.212556e+08\n",
       "4  30.067338  29.868341  30.290362  30.263894  1.128379e+08"
      ]
     },
     "execution_count": 19,
     "metadata": {},
     "output_type": "execute_result"
    }
   ],
   "source": [
    "saapl = get_exp_preprocessing(apple)\n",
    "saapl.head() #saapl stands for smoothed aapl"
   ]
  },
  {
   "cell_type": "code",
   "execution_count": 20,
   "metadata": {},
   "outputs": [],
   "source": [
    "#Feature Extraction based on Pandas Time Series\n",
    "def feature_extraction(data):\n",
    "    for x in [5, 14, 26, 44, 66]:\n",
    "        data = ta.relative_strength_index(data, n=x)\n",
    "        data = ta.stochastic_oscillator_d(data, n=x)\n",
    "        data = ta.accumulation_distribution(data, n=x)\n",
    "        data = ta.average_true_range(data, n=x)\n",
    "        data = ta.momentum(data, n=x)\n",
    "        data = ta.money_flow_index(data, n=x)\n",
    "        data = ta.rate_of_change(data, n=x)\n",
    "        data = ta.on_balance_volume(data, n=x)\n",
    "        data = ta.commodity_channel_index(data, n=x)\n",
    "        data = ta.ease_of_movement(data, n=x)\n",
    "        data = ta.trix(data, n=x)\n",
    "        data = ta.vortex_indicator(data, n=x)\n",
    "    \n",
    "    data['ema50'] = data['Close'] / data['Close'].ewm(50).mean()\n",
    "    data['ema21'] = data['Close'] / data['Close'].ewm(21).mean()\n",
    "    data['ema14'] = data['Close'] / data['Close'].ewm(14).mean()\n",
    "    data['ema5'] = data['Close'] / data['Close'].ewm(5).mean()\n",
    "        \n",
    "    #Williams %R is missing\n",
    "    data = ta.macd(data, n_fast=12, n_slow=26)\n",
    "    \n",
    "    del(data['Open'])\n",
    "    del(data['High'])\n",
    "    del(data['Low'])\n",
    "    del(data['Volume'])\n",
    "    \n",
    "    return data\n",
    "   \n",
    "def compute_prediction_int(df, n):\n",
    "    pred = (df.shift(-n)['Close'] >= df['Close'])\n",
    "    pred = pred.iloc[:-n]\n",
    "    return pred.astype(int)\n",
    "\n",
    "def prepare_data(df, horizon):\n",
    "    data = feature_extraction(df).dropna().iloc[:-horizon]\n",
    "    data['pred'] = compute_prediction_int(data, n=horizon)\n",
    "    del(data['Close'])\n",
    "    return data.dropna()"
   ]
  },
  {
   "cell_type": "code",
   "execution_count": 7,
   "metadata": {},
   "outputs": [],
   "source": [
    "#Create the feature\n",
    "data = prepare_data(saapl, 10)"
   ]
  },
  {
   "cell_type": "code",
   "execution_count": 8,
   "metadata": {},
   "outputs": [],
   "source": [
    "y = data['pred']\n",
    "\n",
    "#remove the output from the input\n",
    "features = [x for x in data.columns if x not in ['gain', 'pred']]\n",
    "X = data[features]"
   ]
  },
  {
   "cell_type": "code",
   "execution_count": 9,
   "metadata": {},
   "outputs": [],
   "source": [
    "# Based on train test split (note )\n",
    "train_size = 2*len(X) // 3\n",
    "\n",
    "X_train = X[:train_size]\n",
    "X_test = X[train_size:]\n",
    "y_train = y[:train_size]\n",
    "y_test = y[train_size:]"
   ]
  },
  {
   "cell_type": "code",
   "execution_count": 10,
   "metadata": {},
   "outputs": [
    {
     "name": "stdout",
     "output_type": "stream",
     "text": [
      "len X_train 1572\n",
      "len y_train 1572\n",
      "len X_test 787\n",
      "len y_test 787\n"
     ]
    }
   ],
   "source": [
    "\n",
    "print('len X_train', len(X_train))\n",
    "print('len y_train', len(y_train))\n",
    "print('len X_test', len(X_test))\n",
    "print('len y_test', len(y_test))"
   ]
  },
  {
   "cell_type": "code",
   "execution_count": 11,
   "metadata": {},
   "outputs": [],
   "source": [
    "from xgboost import XGBClassifier\n",
    "from sklearn.metrics import classification_report"
   ]
  },
  {
   "cell_type": "markdown",
   "metadata": {},
   "source": [
    "## xgb = XGBClassifier\n",
    "rf = xgb(n_jobs=-1, n_estimators=10,  scale_pos_weight=0, random_state=42)\n",
    "rf.fit(X_train, y_train.values.ravel());"
   ]
  },
  {
   "cell_type": "code",
   "execution_count": 12,
   "metadata": {},
   "outputs": [],
   "source": [
    " xgb = XGBClassifier\n",
    "rf = xgb(n_jobs=-1, n_estimators=25,  scale_pos_weight=10, random_state=42)\n",
    "rf.fit(X, y.values.ravel());"
   ]
  },
  {
   "cell_type": "code",
   "execution_count": 13,
   "metadata": {},
   "outputs": [
    {
     "name": "stdout",
     "output_type": "stream",
     "text": [
      "precision: 0.71, recall: 1.00, f1: 0.83, accuracy: 0.73\n",
      "Confusion Matrix\n",
      "              precision    recall  f1-score   support\n",
      "\n",
      "         0.0       1.00      0.23      0.37       274\n",
      "         1.0       0.71      1.00      0.83       513\n",
      "\n",
      "    accuracy                           0.73       787\n",
      "   macro avg       0.85      0.61      0.60       787\n",
      "weighted avg       0.81      0.73      0.67       787\n",
      "\n",
      "[[ 63 211]\n",
      " [  0 513]]\n"
     ]
    }
   ],
   "source": [
    "# Evaluate Predictions\n",
    "pred = rf.predict(X_test)\n",
    "precision = precision_score(y_pred=pred, y_true=y_test)\n",
    "recall = recall_score(y_pred=pred, y_true=y_test)\n",
    "f1 = f1_score(y_pred=pred, y_true=y_test)\n",
    "accuracy = accuracy_score(y_pred=pred, y_true=y_test)\n",
    "confusion = confusion_matrix(y_pred=pred, y_true=y_test)\n",
    "classication_report = classification_report(y_pred=pred, y_true=y_test)\n",
    "print('precision: {0:1.2f}, recall: {1:1.2f}, f1: {2:1.2f}, accuracy: {3:1.2f}'.format(precision, recall, f1, accuracy))\n",
    "print('Confusion Matrix')\n",
    "print(classication_report)                                         \n",
    "print(confusion)"
   ]
  },
  {
   "cell_type": "code",
   "execution_count": 14,
   "metadata": {},
   "outputs": [],
   "source": [
    "data = prepare_data(saapl, 5)"
   ]
  },
  {
   "cell_type": "code",
   "execution_count": null,
   "metadata": {},
   "outputs": [],
   "source": []
  }
 ],
 "metadata": {
  "kernelspec": {
   "display_name": "Python 3",
   "language": "python",
   "name": "python3"
  },
  "language_info": {
   "codemirror_mode": {
    "name": "ipython",
    "version": 3
   },
   "file_extension": ".py",
   "mimetype": "text/x-python",
   "name": "python",
   "nbconvert_exporter": "python",
   "pygments_lexer": "ipython3",
   "version": "3.7.3"
  }
 },
 "nbformat": 4,
 "nbformat_minor": 2
}
